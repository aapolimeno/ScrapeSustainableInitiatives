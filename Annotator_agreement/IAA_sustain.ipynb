{
 "cells": [
  {
   "cell_type": "code",
   "execution_count": 1,
   "id": "87e0f448",
   "metadata": {},
   "outputs": [],
   "source": [
    "import pandas as pd\n",
    "from sklearn.metrics import cohen_kappa_score"
   ]
  },
  {
   "cell_type": "code",
   "execution_count": 37,
   "id": "85a4d9b0",
   "metadata": {},
   "outputs": [],
   "source": [
    "from sklearn.metrics import confusion_matrix\n",
    "import seaborn as sns\n",
    "import matplotlib.pyplot as plt"
   ]
  },
  {
   "cell_type": "code",
   "execution_count": 2,
   "id": "61cf8f43",
   "metadata": {},
   "outputs": [],
   "source": [
    "MR = pd.read_csv('annotations/sample_MR.csv')\n",
    "AP = pd.read_csv('annotations/sample_AP.csv')\n",
    "AL = pd.read_csv('annotations/sample_AL.csv')"
   ]
  },
  {
   "cell_type": "code",
   "execution_count": 106,
   "id": "56e13ebf",
   "metadata": {},
   "outputs": [],
   "source": [
    "pd.set_option('display.max_colwidth', None)"
   ]
  },
  {
   "cell_type": "code",
   "execution_count": 3,
   "id": "efd3e9a3",
   "metadata": {},
   "outputs": [],
   "source": [
    "MR = MR.rename({'Coding-MR' :'Stance/support',\n",
    "                'Unnamed: 8': 'Threat', \n",
    "               'Unnamed: 9': 'Power (individual)',\n",
    "                'Unnamed: 10': 'Power (from others)',\n",
    "                'Unnamed: 11': 'trust_science',\n",
    "                'Unnamed: 12': 'trust_media',\n",
    "                'Unnamed: 13': 'trust_pol',\n",
    "                'Unnamed: 14': 'who',\n",
    "               'Unnamed: 15': 'notes',\n",
    "               }, axis=1)"
   ]
  },
  {
   "cell_type": "code",
   "execution_count": 4,
   "id": "757670ab",
   "metadata": {},
   "outputs": [],
   "source": [
    "AP = AP.rename({'Coding-MR' :'Stance/support',\n",
    "                'Unnamed: 8': 'Threat', \n",
    "               'Unnamed: 9': 'Power (individual)',\n",
    "                'Unnamed: 10': 'Power (from others)',\n",
    "                'Unnamed: 11': 'trust_science',\n",
    "                'Unnamed: 12': 'trust_media',\n",
    "                'Unnamed: 13': 'trust_pol',\n",
    "                'Unnamed: 14': 'who',\n",
    "               'Unnamed: 15': 'notes',\n",
    "               }, axis=1)"
   ]
  },
  {
   "cell_type": "code",
   "execution_count": 5,
   "id": "d3aa4b7e",
   "metadata": {},
   "outputs": [],
   "source": [
    "AL = AL.rename({'Coding-AL' :'Stance/support',\n",
    "                'Unnamed: 8': 'Threat', \n",
    "               'Unnamed: 9': 'Power (individual)',\n",
    "                'Unnamed: 10': 'Power (from others)',\n",
    "                'Unnamed: 11': 'trust_science',\n",
    "                'Unnamed: 12': 'trust_media',\n",
    "                'Unnamed: 13': 'trust_pol',\n",
    "                'Unnamed: 14': 'who',\n",
    "               'Unnamed: 15': 'notes',\n",
    "               }, axis=1)"
   ]
  },
  {
   "cell_type": "code",
   "execution_count": 6,
   "id": "3cac4ca8",
   "metadata": {},
   "outputs": [],
   "source": [
    "MR = MR.iloc[1:]\n",
    "AL = AL.iloc[1:]\n"
   ]
  },
  {
   "cell_type": "markdown",
   "id": "36d35595",
   "metadata": {},
   "source": [
    "### Stances"
   ]
  },
  {
   "cell_type": "code",
   "execution_count": 19,
   "id": "2d4d60f1",
   "metadata": {},
   "outputs": [
    {
     "data": {
      "text/plain": [
       "0.2615384615384615"
      ]
     },
     "execution_count": 19,
     "metadata": {},
     "output_type": "execute_result"
    }
   ],
   "source": [
    "AL_stance = list(AL[\"Stance/support\"][:48])\n",
    "MR_stance = list(MR[\"Stance/support\"][:48])\n",
    "\n",
    "cohen_kappa_score(AL_stance, MR_stance)"
   ]
  },
  {
   "cell_type": "code",
   "execution_count": 41,
   "id": "8570e8ec",
   "metadata": {},
   "outputs": [],
   "source": [
    "labels = [\"unknown\", \"neutral\", \"support\", \"reject\"]\n",
    "matrix = confusion_matrix(AL_stance, MR_stance)"
   ]
  },
  {
   "cell_type": "code",
   "execution_count": 47,
   "id": "f8595386",
   "metadata": {},
   "outputs": [
    {
     "data": {
      "text/plain": [
       "[Text(0.5, 13.5, 'Myrthe'), Text(31.5, 0.5, 'Ana')]"
      ]
     },
     "execution_count": 47,
     "metadata": {},
     "output_type": "execute_result"
    },
    {
     "data": {
      "image/png": "[encoded data removed]",
      "text/plain": [
       "<Figure size 432x288 with 2 Axes>"
      ]
     },
     "metadata": {},
     "output_type": "display_data"
    }
   ],
   "source": [
    "matrix = confusion_matrix(AL_stance, MR_stance)\n",
    "labels = [\"unknown\", \"Neutral\", \"Support\", \"Against\"]\n",
    "\n",
    "sn.set(font_scale=0.8)\n",
    "ax = sns.heatmap(matrix, annot=True, annot_kws={\"size\": 16}, fmt='g', xticklabels = labels, yticklabels = labels)\n",
    "ax.set(xlabel=\"Myrthe\",\n",
    "       ylabel=\"Ana\")    "
   ]
  },
  {
   "cell_type": "code",
   "execution_count": 107,
   "id": "64d14580",
   "metadata": {},
   "outputs": [
    {
     "data": {
      "text/plain": [
       "['2', '2', '2', '0', '2']"
      ]
     },
     "execution_count": 107,
     "metadata": {},
     "output_type": "execute_result"
    }
   ],
   "source": [
    "MR_stance[2:7]"
   ]
  },
  {
   "cell_type": "code",
   "execution_count": 108,
   "id": "d5c1f706",
   "metadata": {},
   "outputs": [
    {
     "data": {
      "text/plain": [
       "['2', '1', '2', '0', '2']"
      ]
     },
     "execution_count": 108,
     "metadata": {},
     "output_type": "execute_result"
    }
   ],
   "source": [
    "AL_stance[2:7]"
   ]
  },
  {
   "cell_type": "code",
   "execution_count": 109,
   "id": "aea52517",
   "metadata": {},
   "outputs": [
    {
     "data": {
      "text/html": [
       "<div>\n",
       "<style scoped>\n",
       "    .dataframe tbody tr th:only-of-type {\n",
       "        vertical-align: middle;\n",
       "    }\n",
       "\n",
       "    .dataframe tbody tr th {\n",
       "        vertical-align: top;\n",
       "    }\n",
       "\n",
       "    .dataframe thead th {\n",
       "        text-align: right;\n",
       "    }\n",
       "</style>\n",
       "<table border=\"1\" class=\"dataframe\">\n",
       "  <thead>\n",
       "    <tr style=\"text-align: right;\">\n",
       "      <th></th>\n",
       "      <th>index</th>\n",
       "      <th>post_id</th>\n",
       "      <th>comment_id</th>\n",
       "      <th>parent_id</th>\n",
       "      <th>subreddit</th>\n",
       "      <th>post_title</th>\n",
       "      <th>comment_body</th>\n",
       "      <th>Stance/support</th>\n",
       "      <th>Threat</th>\n",
       "      <th>Power (individual)</th>\n",
       "      <th>Power (from others)</th>\n",
       "      <th>trust_science</th>\n",
       "      <th>trust_media</th>\n",
       "      <th>trust_pol</th>\n",
       "      <th>who</th>\n",
       "      <th>notes</th>\n",
       "    </tr>\n",
       "  </thead>\n",
       "  <tbody>\n",
       "    <tr>\n",
       "      <th>3</th>\n",
       "      <td>24398.0</td>\n",
       "      <td>qgzl1r</td>\n",
       "      <td>hi9vbgt</td>\n",
       "      <td>t3_qgzl1r</td>\n",
       "      <td>europe</td>\n",
       "      <td>\"Nuclear energy is too dangerous, too expensive, and too sluggishly deploy­able to play a significant role in mitigating the climate crisis.\" - Scientific study. (German paper, English summary in the comments)</td>\n",
       "      <td>Germany trying to pretend killing all its nuclear wasn't the smooth brain play of the century, nothing new to see here</td>\n",
       "      <td>2</td>\n",
       "      <td>0</td>\n",
       "      <td>0</td>\n",
       "      <td>0</td>\n",
       "      <td>0</td>\n",
       "      <td>0</td>\n",
       "      <td>2</td>\n",
       "      <td>3</td>\n",
       "      <td>NaN</td>\n",
       "    </tr>\n",
       "    <tr>\n",
       "      <th>4</th>\n",
       "      <td>24404.0</td>\n",
       "      <td>qgzl1r</td>\n",
       "      <td>hib4rdm</td>\n",
       "      <td>t3_qgzl1r</td>\n",
       "      <td>europe</td>\n",
       "      <td>\"Nuclear energy is too dangerous, too expensive, and too sluggishly deploy­able to play a significant role in mitigating the climate crisis.\" - Scientific study. (German paper, English summary in the comments)</td>\n",
       "      <td>Okay Germany, too bad Bulgaria, Croatia, Czech Republic, Finland, Hungary, Poland, Slovakia, Slovenia and Romania don't give a fuck about what you think about nuclear.</td>\n",
       "      <td>2</td>\n",
       "      <td>0</td>\n",
       "      <td>0</td>\n",
       "      <td>1</td>\n",
       "      <td>0</td>\n",
       "      <td>0</td>\n",
       "      <td>1</td>\n",
       "      <td>3</td>\n",
       "      <td>NaN</td>\n",
       "    </tr>\n",
       "    <tr>\n",
       "      <th>5</th>\n",
       "      <td>24442.0</td>\n",
       "      <td>qgzl1r</td>\n",
       "      <td>hi9z7uo</td>\n",
       "      <td>t3_qgzl1r</td>\n",
       "      <td>europe</td>\n",
       "      <td>\"Nuclear energy is too dangerous, too expensive, and too sluggishly deploy­able to play a significant role in mitigating the climate crisis.\" - Scientific study. (German paper, English summary in the comments)</td>\n",
       "      <td>What a fantastic mountain of shite.</td>\n",
       "      <td>2</td>\n",
       "      <td>0</td>\n",
       "      <td>0</td>\n",
       "      <td>0</td>\n",
       "      <td>1</td>\n",
       "      <td>0</td>\n",
       "      <td>0</td>\n",
       "      <td>0</td>\n",
       "      <td>NaN</td>\n",
       "    </tr>\n",
       "    <tr>\n",
       "      <th>6</th>\n",
       "      <td>17408.0</td>\n",
       "      <td>cn47g8</td>\n",
       "      <td>ew8qdna</td>\n",
       "      <td>t3_cn47g8</td>\n",
       "      <td>europe</td>\n",
       "      <td>\"There are now almost 200 abandoned ski resorts in the Italian Alps\" due mostly to climate change</td>\n",
       "      <td>Can someone tell me what the building structure behind the lift in the article photo is? Some unfinished construction where only the framing was done? Something deteriorated only leaving the framing? Some weird architecture? A car park?\\n\\nEdit: nevermind, found some hikers blogpost bitching about it. It's an unfinished construction site which was then abandoned. https://camoscibianchi.wordpress.com/2012/04/13/lago-di-viana/</td>\n",
       "      <td>0</td>\n",
       "      <td>0</td>\n",
       "      <td>0</td>\n",
       "      <td>0</td>\n",
       "      <td>0</td>\n",
       "      <td>0</td>\n",
       "      <td>0</td>\n",
       "      <td>0</td>\n",
       "      <td>NaN</td>\n",
       "    </tr>\n",
       "    <tr>\n",
       "      <th>7</th>\n",
       "      <td>23511.0</td>\n",
       "      <td>m68oxg</td>\n",
       "      <td>gr4f35a</td>\n",
       "      <td>t3_m68oxg</td>\n",
       "      <td>europe</td>\n",
       "      <td>Every euro invested in nuclear power makes the climate crisis worse'</td>\n",
       "      <td>I just wonder if all of those nice graphs include the costs of maintenance, recycling and replacement.\\n\\nEither way, in our case nuclear = fast and relatively realistic solution.</td>\n",
       "      <td>2</td>\n",
       "      <td>0</td>\n",
       "      <td>0</td>\n",
       "      <td>0</td>\n",
       "      <td>2</td>\n",
       "      <td>0</td>\n",
       "      <td>0</td>\n",
       "      <td>-</td>\n",
       "      <td>unclear who is issuing</td>\n",
       "    </tr>\n",
       "  </tbody>\n",
       "</table>\n",
       "</div>"
      ],
      "text/plain": [
       "     index post_id comment_id  parent_id subreddit  \\\n",
       "3  24398.0  qgzl1r    hi9vbgt  t3_qgzl1r    europe   \n",
       "4  24404.0  qgzl1r    hib4rdm  t3_qgzl1r    europe   \n",
       "5  24442.0  qgzl1r    hi9z7uo  t3_qgzl1r    europe   \n",
       "6  17408.0  cn47g8    ew8qdna  t3_cn47g8    europe   \n",
       "7  23511.0  m68oxg    gr4f35a  t3_m68oxg    europe   \n",
       "\n",
       "                                                                                                                                                                                                          post_title  \\\n",
       "3  \"Nuclear energy is too dangerous, too expensive, and too sluggishly deploy­able to play a significant role in mitigating the climate crisis.\" - Scientific study. (German paper, English summary in the comments)   \n",
       "4  \"Nuclear energy is too dangerous, too expensive, and too sluggishly deploy­able to play a significant role in mitigating the climate crisis.\" - Scientific study. (German paper, English summary in the comments)   \n",
       "5  \"Nuclear energy is too dangerous, too expensive, and too sluggishly deploy­able to play a significant role in mitigating the climate crisis.\" - Scientific study. (German paper, English summary in the comments)   \n",
       "6                                                                                                                  \"There are now almost 200 abandoned ski resorts in the Italian Alps\" due mostly to climate change   \n",
       "7                                                                                                                                               Every euro invested in nuclear power makes the climate crisis worse'   \n",
       "\n",
       "                                                                                                                                                                                                                                                                                                                                                                                                                                   comment_body  \\\n",
       "3                                                                                                                                                                                                                                                                                                                        Germany trying to pretend killing all its nuclear wasn't the smooth brain play of the century, nothing new to see here   \n",
       "4                                                                                                                                                                                                                                                                       Okay Germany, too bad Bulgaria, Croatia, Czech Republic, Finland, Hungary, Poland, Slovakia, Slovenia and Romania don't give a fuck about what you think about nuclear.   \n",
       "5                                                                                                                                                                                                                                                                                                                                                                                                           What a fantastic mountain of shite.   \n",
       "6  Can someone tell me what the building structure behind the lift in the article photo is? Some unfinished construction where only the framing was done? Something deteriorated only leaving the framing? Some weird architecture? A car park?\\n\\nEdit: nevermind, found some hikers blogpost bitching about it. It's an unfinished construction site which was then abandoned. https://camoscibianchi.wordpress.com/2012/04/13/lago-di-viana/   \n",
       "7                                                                                                                                                                                                                                                           I just wonder if all of those nice graphs include the costs of maintenance, recycling and replacement.\\n\\nEither way, in our case nuclear = fast and relatively realistic solution.   \n",
       "\n",
       "  Stance/support Threat Power (individual) Power (from others) trust_science  \\\n",
       "3              2      0                  0                   0             0   \n",
       "4              2      0                  0                   1             0   \n",
       "5              2      0                  0                   0             1   \n",
       "6              0      0                  0                   0             0   \n",
       "7              2      0                  0                   0             2   \n",
       "\n",
       "  trust_media trust_pol who                   notes  \n",
       "3           0         2   3                     NaN  \n",
       "4           0         1   3                     NaN  \n",
       "5           0         0   0                     NaN  \n",
       "6           0         0   0                     NaN  \n",
       "7           0         0   -  unclear who is issuing  "
      ]
     },
     "execution_count": 109,
     "metadata": {},
     "output_type": "execute_result"
    }
   ],
   "source": [
    "MR[2:7]"
   ]
  },
  {
   "cell_type": "markdown",
   "id": "2a9eb0ba",
   "metadata": {},
   "source": [
    "### Threat"
   ]
  },
  {
   "cell_type": "code",
   "execution_count": 50,
   "id": "e856d4f0",
   "metadata": {},
   "outputs": [
    {
     "data": {
      "text/plain": [
       "0.3153153153153153"
      ]
     },
     "execution_count": 50,
     "metadata": {},
     "output_type": "execute_result"
    }
   ],
   "source": [
    "AL_threat = list(AL[\"Threat\"][:48])\n",
    "MR_threat = list(MR[\"Threat\"][:48])\n",
    "\n",
    "cohen_kappa_score(AL_threat, MR_threat)"
   ]
  },
  {
   "cell_type": "code",
   "execution_count": 51,
   "id": "e5cc9892",
   "metadata": {},
   "outputs": [
    {
     "data": {
      "text/plain": [
       "[Text(0.5, 13.5, 'Myrthe'), Text(31.5, 0.5, 'Ana')]"
      ]
     },
     "execution_count": 51,
     "metadata": {},
     "output_type": "execute_result"
    },
    {
     "data": {
      "image/png": "[encoded data removed]",
      "text/plain": [
       "<Figure size 432x288 with 2 Axes>"
      ]
     },
     "metadata": {},
     "output_type": "display_data"
    }
   ],
   "source": [
    "matrix = confusion_matrix(AL_threat, MR_threat)\n",
    "labels = [\"unknown\", \"absent\", \"threat\", \"no threat\"]\n",
    "\n",
    "sn.set(font_scale=0.8)\n",
    "ax = sns.heatmap(matrix, annot=True, annot_kws={\"size\": 16}, fmt='g', xticklabels = labels, yticklabels = labels)\n",
    "ax.set(xlabel=\"Myrthe\",\n",
    "       ylabel=\"Ana\")    "
   ]
  },
  {
   "cell_type": "code",
   "execution_count": 110,
   "id": "b2d06802",
   "metadata": {},
   "outputs": [
    {
     "data": {
      "text/plain": [
       "['0', '1', '0', '0', '0', '0', '0', '0', '0', '0']"
      ]
     },
     "execution_count": 110,
     "metadata": {},
     "output_type": "execute_result"
    }
   ],
   "source": [
    "MR_threat[:10]"
   ]
  },
  {
   "cell_type": "code",
   "execution_count": 111,
   "id": "da47fca3",
   "metadata": {},
   "outputs": [
    {
     "data": {
      "text/plain": [
       "['0', '1', '0', '0', '0', '0', '1', '-', '0', '-']"
      ]
     },
     "execution_count": 111,
     "metadata": {},
     "output_type": "execute_result"
    }
   ],
   "source": [
    "AL_threat[:10]"
   ]
  },
  {
   "cell_type": "code",
   "execution_count": 112,
   "id": "b8de09bd",
   "metadata": {},
   "outputs": [
    {
     "data": {
      "text/html": [
       "<div>\n",
       "<style scoped>\n",
       "    .dataframe tbody tr th:only-of-type {\n",
       "        vertical-align: middle;\n",
       "    }\n",
       "\n",
       "    .dataframe tbody tr th {\n",
       "        vertical-align: top;\n",
       "    }\n",
       "\n",
       "    .dataframe thead th {\n",
       "        text-align: right;\n",
       "    }\n",
       "</style>\n",
       "<table border=\"1\" class=\"dataframe\">\n",
       "  <thead>\n",
       "    <tr style=\"text-align: right;\">\n",
       "      <th></th>\n",
       "      <th>index</th>\n",
       "      <th>post_id</th>\n",
       "      <th>comment_id</th>\n",
       "      <th>parent_id</th>\n",
       "      <th>subreddit</th>\n",
       "      <th>post_title</th>\n",
       "      <th>comment_body</th>\n",
       "      <th>Stance/support</th>\n",
       "      <th>Threat</th>\n",
       "      <th>Power (individual)</th>\n",
       "      <th>Power (from others)</th>\n",
       "      <th>trust_science</th>\n",
       "      <th>trust_media</th>\n",
       "      <th>trust_pol</th>\n",
       "      <th>who</th>\n",
       "      <th>notes</th>\n",
       "    </tr>\n",
       "  </thead>\n",
       "  <tbody>\n",
       "    <tr>\n",
       "      <th>1</th>\n",
       "      <td>36668.0</td>\n",
       "      <td>pokfq7</td>\n",
       "      <td>hcxfm4a</td>\n",
       "      <td>t3_pokfq7</td>\n",
       "      <td>europe</td>\n",
       "      <td>\"CO2-Efficiency of EU economies\": CO2 emissions in kg per PPP $ of GDP in 2018. Source: data.worldbank.org</td>\n",
       "      <td>Not the golden child of the Baltic Region now huh, are you Estonia!? /s</td>\n",
       "      <td>0</td>\n",
       "      <td>0</td>\n",
       "      <td>0</td>\n",
       "      <td>0</td>\n",
       "      <td>0</td>\n",
       "      <td>0</td>\n",
       "      <td>0</td>\n",
       "      <td>-</td>\n",
       "      <td>NaN</td>\n",
       "    </tr>\n",
       "    <tr>\n",
       "      <th>2</th>\n",
       "      <td>24426.0</td>\n",
       "      <td>qgzl1r</td>\n",
       "      <td>hi9pwrs</td>\n",
       "      <td>t3_qgzl1r</td>\n",
       "      <td>europe</td>\n",
       "      <td>\"Nuclear energy is too dangerous, too expensive, and too sluggishly deploy­able to play a significant role in mitigating the climate crisis.\" - Scientific study. (German paper, English summary in the comments)</td>\n",
       "      <td>I'd like to ask the Nuka-Cola savers of the Earth to stop eating beef. It causes a lot of globalwarming and it is a waste of energy resources.\\n\\nThank you.\\n\\nP.S. You can do it right now, unlike any future savings of massively delayed megaprojects.</td>\n",
       "      <td>1</td>\n",
       "      <td>1</td>\n",
       "      <td>1</td>\n",
       "      <td>0</td>\n",
       "      <td>0</td>\n",
       "      <td>0</td>\n",
       "      <td>0</td>\n",
       "      <td>0</td>\n",
       "      <td>private individuals</td>\n",
       "    </tr>\n",
       "    <tr>\n",
       "      <th>3</th>\n",
       "      <td>24398.0</td>\n",
       "      <td>qgzl1r</td>\n",
       "      <td>hi9vbgt</td>\n",
       "      <td>t3_qgzl1r</td>\n",
       "      <td>europe</td>\n",
       "      <td>\"Nuclear energy is too dangerous, too expensive, and too sluggishly deploy­able to play a significant role in mitigating the climate crisis.\" - Scientific study. (German paper, English summary in the comments)</td>\n",
       "      <td>Germany trying to pretend killing all its nuclear wasn't the smooth brain play of the century, nothing new to see here</td>\n",
       "      <td>2</td>\n",
       "      <td>0</td>\n",
       "      <td>0</td>\n",
       "      <td>0</td>\n",
       "      <td>0</td>\n",
       "      <td>0</td>\n",
       "      <td>2</td>\n",
       "      <td>3</td>\n",
       "      <td>NaN</td>\n",
       "    </tr>\n",
       "    <tr>\n",
       "      <th>4</th>\n",
       "      <td>24404.0</td>\n",
       "      <td>qgzl1r</td>\n",
       "      <td>hib4rdm</td>\n",
       "      <td>t3_qgzl1r</td>\n",
       "      <td>europe</td>\n",
       "      <td>\"Nuclear energy is too dangerous, too expensive, and too sluggishly deploy­able to play a significant role in mitigating the climate crisis.\" - Scientific study. (German paper, English summary in the comments)</td>\n",
       "      <td>Okay Germany, too bad Bulgaria, Croatia, Czech Republic, Finland, Hungary, Poland, Slovakia, Slovenia and Romania don't give a fuck about what you think about nuclear.</td>\n",
       "      <td>2</td>\n",
       "      <td>0</td>\n",
       "      <td>0</td>\n",
       "      <td>1</td>\n",
       "      <td>0</td>\n",
       "      <td>0</td>\n",
       "      <td>1</td>\n",
       "      <td>3</td>\n",
       "      <td>NaN</td>\n",
       "    </tr>\n",
       "    <tr>\n",
       "      <th>5</th>\n",
       "      <td>24442.0</td>\n",
       "      <td>qgzl1r</td>\n",
       "      <td>hi9z7uo</td>\n",
       "      <td>t3_qgzl1r</td>\n",
       "      <td>europe</td>\n",
       "      <td>\"Nuclear energy is too dangerous, too expensive, and too sluggishly deploy­able to play a significant role in mitigating the climate crisis.\" - Scientific study. (German paper, English summary in the comments)</td>\n",
       "      <td>What a fantastic mountain of shite.</td>\n",
       "      <td>2</td>\n",
       "      <td>0</td>\n",
       "      <td>0</td>\n",
       "      <td>0</td>\n",
       "      <td>1</td>\n",
       "      <td>0</td>\n",
       "      <td>0</td>\n",
       "      <td>0</td>\n",
       "      <td>NaN</td>\n",
       "    </tr>\n",
       "    <tr>\n",
       "      <th>6</th>\n",
       "      <td>17408.0</td>\n",
       "      <td>cn47g8</td>\n",
       "      <td>ew8qdna</td>\n",
       "      <td>t3_cn47g8</td>\n",
       "      <td>europe</td>\n",
       "      <td>\"There are now almost 200 abandoned ski resorts in the Italian Alps\" due mostly to climate change</td>\n",
       "      <td>Can someone tell me what the building structure behind the lift in the article photo is? Some unfinished construction where only the framing was done? Something deteriorated only leaving the framing? Some weird architecture? A car park?\\n\\nEdit: nevermind, found some hikers blogpost bitching about it. It's an unfinished construction site which was then abandoned. https://camoscibianchi.wordpress.com/2012/04/13/lago-di-viana/</td>\n",
       "      <td>0</td>\n",
       "      <td>0</td>\n",
       "      <td>0</td>\n",
       "      <td>0</td>\n",
       "      <td>0</td>\n",
       "      <td>0</td>\n",
       "      <td>0</td>\n",
       "      <td>0</td>\n",
       "      <td>NaN</td>\n",
       "    </tr>\n",
       "    <tr>\n",
       "      <th>7</th>\n",
       "      <td>23511.0</td>\n",
       "      <td>m68oxg</td>\n",
       "      <td>gr4f35a</td>\n",
       "      <td>t3_m68oxg</td>\n",
       "      <td>europe</td>\n",
       "      <td>Every euro invested in nuclear power makes the climate crisis worse'</td>\n",
       "      <td>I just wonder if all of those nice graphs include the costs of maintenance, recycling and replacement.\\n\\nEither way, in our case nuclear = fast and relatively realistic solution.</td>\n",
       "      <td>2</td>\n",
       "      <td>0</td>\n",
       "      <td>0</td>\n",
       "      <td>0</td>\n",
       "      <td>2</td>\n",
       "      <td>0</td>\n",
       "      <td>0</td>\n",
       "      <td>-</td>\n",
       "      <td>unclear who is issuing</td>\n",
       "    </tr>\n",
       "    <tr>\n",
       "      <th>8</th>\n",
       "      <td>9483.0</td>\n",
       "      <td>a2m8aa</td>\n",
       "      <td>eazqtd4</td>\n",
       "      <td>t3_a2m8aa</td>\n",
       "      <td>europe</td>\n",
       "      <td>We are last generation that can stop climate change' – UN summit. Big cuts in carbon emissions and a rise in protection from extreme weather urgently needed. Almost 200 nations were set to meet in Poland for two weeks,</td>\n",
       "      <td>“Hold my clean coal”\\n\\n- Donald and Kaczor probably</td>\n",
       "      <td>1</td>\n",
       "      <td>0</td>\n",
       "      <td>0</td>\n",
       "      <td>0</td>\n",
       "      <td>0</td>\n",
       "      <td>0</td>\n",
       "      <td>2</td>\n",
       "      <td>3</td>\n",
       "      <td>NaN</td>\n",
       "    </tr>\n",
       "    <tr>\n",
       "      <th>9</th>\n",
       "      <td>6732.0</td>\n",
       "      <td>e540wb</td>\n",
       "      <td>f9i51iz</td>\n",
       "      <td>t3_e540wb</td>\n",
       "      <td>europe</td>\n",
       "      <td>-“Only a bunch of fanatics deny climate change\" Pedro Sanchez - President of Spain.</td>\n",
       "      <td>Then he probably flied in his official plane back to  Moncloa palace.</td>\n",
       "      <td>2</td>\n",
       "      <td>0</td>\n",
       "      <td>0</td>\n",
       "      <td>0</td>\n",
       "      <td>0</td>\n",
       "      <td>0</td>\n",
       "      <td>0</td>\n",
       "      <td>3</td>\n",
       "      <td>NaN</td>\n",
       "    </tr>\n",
       "    <tr>\n",
       "      <th>10</th>\n",
       "      <td>11274.0</td>\n",
       "      <td>agws02</td>\n",
       "      <td>ee9lo05</td>\n",
       "      <td>t3_agws02</td>\n",
       "      <td>europe</td>\n",
       "      <td>12,500 Belgian kids skip school to protest climate change</td>\n",
       "      <td>\"Go, clean up Your room!\"   J.B.P</td>\n",
       "      <td>0</td>\n",
       "      <td>0</td>\n",
       "      <td>0</td>\n",
       "      <td>0</td>\n",
       "      <td>0</td>\n",
       "      <td>0</td>\n",
       "      <td>0</td>\n",
       "      <td>0</td>\n",
       "      <td>unclear whether support or not</td>\n",
       "    </tr>\n",
       "  </tbody>\n",
       "</table>\n",
       "</div>"
      ],
      "text/plain": [
       "      index post_id comment_id  parent_id subreddit  \\\n",
       "1   36668.0  pokfq7    hcxfm4a  t3_pokfq7    europe   \n",
       "2   24426.0  qgzl1r    hi9pwrs  t3_qgzl1r    europe   \n",
       "3   24398.0  qgzl1r    hi9vbgt  t3_qgzl1r    europe   \n",
       "4   24404.0  qgzl1r    hib4rdm  t3_qgzl1r    europe   \n",
       "5   24442.0  qgzl1r    hi9z7uo  t3_qgzl1r    europe   \n",
       "6   17408.0  cn47g8    ew8qdna  t3_cn47g8    europe   \n",
       "7   23511.0  m68oxg    gr4f35a  t3_m68oxg    europe   \n",
       "8    9483.0  a2m8aa    eazqtd4  t3_a2m8aa    europe   \n",
       "9    6732.0  e540wb    f9i51iz  t3_e540wb    europe   \n",
       "10  11274.0  agws02    ee9lo05  t3_agws02    europe   \n",
       "\n",
       "                                                                                                                                                                                                                    post_title  \\\n",
       "1                                                                                                                   \"CO2-Efficiency of EU economies\": CO2 emissions in kg per PPP $ of GDP in 2018. Source: data.worldbank.org   \n",
       "2            \"Nuclear energy is too dangerous, too expensive, and too sluggishly deploy­able to play a significant role in mitigating the climate crisis.\" - Scientific study. (German paper, English summary in the comments)   \n",
       "3            \"Nuclear energy is too dangerous, too expensive, and too sluggishly deploy­able to play a significant role in mitigating the climate crisis.\" - Scientific study. (German paper, English summary in the comments)   \n",
       "4            \"Nuclear energy is too dangerous, too expensive, and too sluggishly deploy­able to play a significant role in mitigating the climate crisis.\" - Scientific study. (German paper, English summary in the comments)   \n",
       "5            \"Nuclear energy is too dangerous, too expensive, and too sluggishly deploy­able to play a significant role in mitigating the climate crisis.\" - Scientific study. (German paper, English summary in the comments)   \n",
       "6                                                                                                                            \"There are now almost 200 abandoned ski resorts in the Italian Alps\" due mostly to climate change   \n",
       "7                                                                                                                                                         Every euro invested in nuclear power makes the climate crisis worse'   \n",
       "8   We are last generation that can stop climate change' – UN summit. Big cuts in carbon emissions and a rise in protection from extreme weather urgently needed. Almost 200 nations were set to meet in Poland for two weeks,   \n",
       "9                                                                                                                                          -“Only a bunch of fanatics deny climate change\" Pedro Sanchez - President of Spain.   \n",
       "10                                                                                                                                                                   12,500 Belgian kids skip school to protest climate change   \n",
       "\n",
       "                                                                                                                                                                                                                                                                                                                                                                                                                                    comment_body  \\\n",
       "1                                                                                                                                                                                                                                                                                                                                                                        Not the golden child of the Baltic Region now huh, are you Estonia!? /s   \n",
       "2                                                                                                                                                                                     I'd like to ask the Nuka-Cola savers of the Earth to stop eating beef. It causes a lot of globalwarming and it is a waste of energy resources.\\n\\nThank you.\\n\\nP.S. You can do it right now, unlike any future savings of massively delayed megaprojects.   \n",
       "3                                                                                                                                                                                                                                                                                                                         Germany trying to pretend killing all its nuclear wasn't the smooth brain play of the century, nothing new to see here   \n",
       "4                                                                                                                                                                                                                                                                        Okay Germany, too bad Bulgaria, Croatia, Czech Republic, Finland, Hungary, Poland, Slovakia, Slovenia and Romania don't give a fuck about what you think about nuclear.   \n",
       "5                                                                                                                                                                                                                                                                                                                                                                                                            What a fantastic mountain of shite.   \n",
       "6   Can someone tell me what the building structure behind the lift in the article photo is? Some unfinished construction where only the framing was done? Something deteriorated only leaving the framing? Some weird architecture? A car park?\\n\\nEdit: nevermind, found some hikers blogpost bitching about it. It's an unfinished construction site which was then abandoned. https://camoscibianchi.wordpress.com/2012/04/13/lago-di-viana/   \n",
       "7                                                                                                                                                                                                                                                            I just wonder if all of those nice graphs include the costs of maintenance, recycling and replacement.\\n\\nEither way, in our case nuclear = fast and relatively realistic solution.   \n",
       "8                                                                                                                                                                                                                                                                                                                                                                                          “Hold my clean coal”\\n\\n- Donald and Kaczor probably    \n",
       "9                                                                                                                                                                                                                                                                                                                                                                          Then he probably flied in his official plane back to  Moncloa palace.   \n",
       "10                                                                                                                                                                                                                                                                                                                                                                                                             \"Go, clean up Your room!\"   J.B.P   \n",
       "\n",
       "   Stance/support Threat Power (individual) Power (from others) trust_science  \\\n",
       "1               0      0                  0                   0             0   \n",
       "2               1      1                  1                   0             0   \n",
       "3               2      0                  0                   0             0   \n",
       "4               2      0                  0                   1             0   \n",
       "5               2      0                  0                   0             1   \n",
       "6               0      0                  0                   0             0   \n",
       "7               2      0                  0                   0             2   \n",
       "8               1      0                  0                   0             0   \n",
       "9               2      0                  0                   0             0   \n",
       "10              0      0                  0                   0             0   \n",
       "\n",
       "   trust_media trust_pol who                           notes  \n",
       "1            0         0   -                             NaN  \n",
       "2            0         0   0             private individuals  \n",
       "3            0         2   3                             NaN  \n",
       "4            0         1   3                             NaN  \n",
       "5            0         0   0                             NaN  \n",
       "6            0         0   0                             NaN  \n",
       "7            0         0   -          unclear who is issuing  \n",
       "8            0         2   3                             NaN  \n",
       "9            0         0   3                             NaN  \n",
       "10           0         0   0  unclear whether support or not  "
      ]
     },
     "execution_count": 112,
     "metadata": {},
     "output_type": "execute_result"
    }
   ],
   "source": [
    "MR[:10]"
   ]
  },
  {
   "cell_type": "markdown",
   "id": "9dd3dd81",
   "metadata": {},
   "source": [
    "### Power (individual)"
   ]
  },
  {
   "cell_type": "code",
   "execution_count": 57,
   "id": "41d9b8d4",
   "metadata": {},
   "outputs": [
    {
     "data": {
      "text/plain": [
       "0.4696132596685083"
      ]
     },
     "execution_count": 57,
     "metadata": {},
     "output_type": "execute_result"
    }
   ],
   "source": [
    "AL_power = list(AL[\"Power (individual)\"][:48])\n",
    "MR_power = list(MR[\"Power (individual)\"][:48])\n",
    "\n",
    "cohen_kappa_score(AL_power, MR_power)"
   ]
  },
  {
   "cell_type": "code",
   "execution_count": 58,
   "id": "684a85ff",
   "metadata": {},
   "outputs": [
    {
     "data": {
      "text/plain": [
       "[Text(0.5, 13.5, 'Myrthe'), Text(31.5, 0.5, 'Ana')]"
      ]
     },
     "execution_count": 58,
     "metadata": {},
     "output_type": "execute_result"
    },
    {
     "data": {
      "image/png": "[encoded data removed]",
      "text/plain": [
       "<Figure size 432x288 with 2 Axes>"
      ]
     },
     "metadata": {},
     "output_type": "display_data"
    }
   ],
   "source": [
    "matrix = confusion_matrix(AL_power, MR_power)\n",
    "labels = [\"unknown\", \"absent\", \"power\", \"no power\"]\n",
    "\n",
    "sns.set(font_scale=0.8)\n",
    "ax = sns.heatmap(matrix, annot=True, annot_kws={\"size\": 16}, fmt='g', xticklabels = labels, yticklabels = labels)\n",
    "ax.set(xlabel=\"Myrthe\",\n",
    "       ylabel=\"Ana\")    "
   ]
  },
  {
   "cell_type": "markdown",
   "id": "f017fbaf",
   "metadata": {},
   "source": [
    "### Power (from others)"
   ]
  },
  {
   "cell_type": "code",
   "execution_count": 64,
   "id": "1e301235",
   "metadata": {},
   "outputs": [
    {
     "data": {
      "text/plain": [
       "0.2421052631578947"
      ]
     },
     "execution_count": 64,
     "metadata": {},
     "output_type": "execute_result"
    }
   ],
   "source": [
    "AL_power = list(AL[\"Power (from others)\"][:48])\n",
    "MR_power = list(MR[\"Power (from others)\"][:48])\n",
    "\n",
    "matrix = confusion_matrix(AL_power, MR_power)\n",
    "\n",
    "cohen_kappa_score(AL_power, MR_power)"
   ]
  },
  {
   "cell_type": "code",
   "execution_count": 65,
   "id": "6abb38fb",
   "metadata": {},
   "outputs": [
    {
     "data": {
      "text/plain": [
       "[Text(0.5, 13.5, 'Myrthe'), Text(31.5, 0.5, 'Ana')]"
      ]
     },
     "execution_count": 65,
     "metadata": {},
     "output_type": "execute_result"
    },
    {
     "data": {
      "image/png": "[encoded data removed]",
      "text/plain": [
       "<Figure size 432x288 with 2 Axes>"
      ]
     },
     "metadata": {},
     "output_type": "display_data"
    }
   ],
   "source": [
    "sns.set(font_scale=0.8)\n",
    "ax = sns.heatmap(matrix, annot=True, annot_kws={\"size\": 16}, fmt='g', xticklabels = labels, yticklabels = labels)\n",
    "ax.set(xlabel=\"Myrthe\",\n",
    "       ylabel=\"Ana\")    "
   ]
  },
  {
   "cell_type": "markdown",
   "id": "8e328663",
   "metadata": {},
   "source": [
    "### trust_science"
   ]
  },
  {
   "cell_type": "code",
   "execution_count": 74,
   "id": "473bdd89",
   "metadata": {},
   "outputs": [
    {
     "data": {
      "text/plain": [
       "0.0"
      ]
     },
     "execution_count": 74,
     "metadata": {},
     "output_type": "execute_result"
    }
   ],
   "source": [
    "AL_power = list(AL[\"trust_science\"][:48])\n",
    "MR_power = list(MR[\"trust_science\"][:48])\n",
    "labels = [\"absent\", \"trust\", \"no trust\"]\n",
    "\n",
    "matrix = confusion_matrix(AL_power, MR_power)\n",
    "\n",
    "cohen_kappa_score(AL_power, MR_power)"
   ]
  },
  {
   "cell_type": "code",
   "execution_count": 75,
   "id": "3597e5af",
   "metadata": {},
   "outputs": [
    {
     "data": {
      "text/plain": [
       "['0', '0', '0', '0', '1']"
      ]
     },
     "execution_count": 75,
     "metadata": {},
     "output_type": "execute_result"
    }
   ],
   "source": [
    "MR_power[:5]"
   ]
  },
  {
   "cell_type": "code",
   "execution_count": 76,
   "id": "d0e6f7e1",
   "metadata": {},
   "outputs": [
    {
     "data": {
      "text/plain": [
       "['0', '0', '0', '0', '0']"
      ]
     },
     "execution_count": 76,
     "metadata": {},
     "output_type": "execute_result"
    }
   ],
   "source": [
    "AL_power[:5]"
   ]
  },
  {
   "cell_type": "code",
   "execution_count": 77,
   "id": "64cdc6bc",
   "metadata": {},
   "outputs": [
    {
     "data": {
      "text/plain": [
       "[Text(0.5, 13.5, 'Myrthe'), Text(31.5, 0.5, 'Ana')]"
      ]
     },
     "execution_count": 77,
     "metadata": {},
     "output_type": "execute_result"
    },
    {
     "data": {
      "image/png": "[encoded data removed]",
      "text/plain": [
       "<Figure size 432x288 with 2 Axes>"
      ]
     },
     "metadata": {},
     "output_type": "display_data"
    }
   ],
   "source": [
    "sns.set(font_scale=0.8)\n",
    "ax = sns.heatmap(matrix, annot=True, annot_kws={\"size\": 16}, fmt='g', xticklabels = labels, yticklabels = labels)\n",
    "ax.set(xlabel=\"Myrthe\",\n",
    "       ylabel=\"Ana\")    "
   ]
  },
  {
   "cell_type": "markdown",
   "id": "933789a6",
   "metadata": {},
   "source": [
    "### trust_media "
   ]
  },
  {
   "cell_type": "code",
   "execution_count": 116,
   "id": "d89bab10",
   "metadata": {},
   "outputs": [],
   "source": [
    "AL_power = list(AL[\"trust_media\"][:48])\n",
    "MR_power = list(MR[\"trust_media\"][:48])\n",
    "labels = [\"absent\", \"trust\", \"no trust\"]\n",
    "\n",
    "matrix = confusion_matrix(AL_power, MR_power)"
   ]
  },
  {
   "cell_type": "code",
   "execution_count": 117,
   "id": "cdb788d7",
   "metadata": {},
   "outputs": [
    {
     "name": "stderr",
     "output_type": "stream",
     "text": [
      "/Users/myrthereuver/tf-venv/lib/python3.9/site-packages/sklearn/metrics/_classification.py:673: RuntimeWarning: invalid value encountered in true_divide\n",
      "  k = np.sum(w_mat * confusion) / np.sum(w_mat * expected)\n"
     ]
    },
    {
     "data": {
      "text/plain": [
       "nan"
      ]
     },
     "execution_count": 117,
     "metadata": {},
     "output_type": "execute_result"
    }
   ],
   "source": [
    "cohen_kappa_score(AL_power, MR_power)"
   ]
  },
  {
   "cell_type": "code",
   "execution_count": 115,
   "id": "e9bab414",
   "metadata": {},
   "outputs": [
    {
     "data": {
      "text/plain": [
       "[Text(0.5, 13.5, 'Myrthe'), Text(31.5, 0.5, 'Ana')]"
      ]
     },
     "execution_count": 115,
     "metadata": {},
     "output_type": "execute_result"
    },
    {
     "data": {
      "image/png": "[encoded data removed]",
      "text/plain": [
       "<Figure size 432x288 with 2 Axes>"
      ]
     },
     "metadata": {},
     "output_type": "display_data"
    }
   ],
   "source": [
    "sns.set(font_scale=0.8)\n",
    "ax = sns.heatmap(matrix, annot=True, annot_kws={\"size\": 16}, fmt='g', xticklabels = labels, yticklabels = labels)\n",
    "ax.set(xlabel=\"Myrthe\",\n",
    "       ylabel=\"Ana\")  "
   ]
  },
  {
   "cell_type": "markdown",
   "id": "10134d4a",
   "metadata": {},
   "source": [
    "### trust_pol"
   ]
  },
  {
   "cell_type": "code",
   "execution_count": 88,
   "id": "aa1852ed",
   "metadata": {},
   "outputs": [],
   "source": [
    "AL_power = list(AL[\"trust_pol\"][:48])\n",
    "MR_power = list(MR[\"trust_pol\"][:48])\n",
    "labels = [\"absent\", \"trust\", \"no trust\"]\n",
    "\n",
    "matrix = confusion_matrix(AL_power, MR_power)"
   ]
  },
  {
   "cell_type": "code",
   "execution_count": 89,
   "id": "1bcd2db4",
   "metadata": {},
   "outputs": [
    {
     "data": {
      "text/plain": [
       "0.36170212765957455"
      ]
     },
     "execution_count": 89,
     "metadata": {},
     "output_type": "execute_result"
    }
   ],
   "source": [
    "cohen_kappa_score(AL_power, MR_power)"
   ]
  },
  {
   "cell_type": "code",
   "execution_count": 90,
   "id": "01f028f2",
   "metadata": {},
   "outputs": [
    {
     "data": {
      "text/plain": [
       "[Text(0.5, 13.5, 'Myrthe'), Text(31.5, 0.5, 'Ana')]"
      ]
     },
     "execution_count": 90,
     "metadata": {},
     "output_type": "execute_result"
    },
    {
     "data": {
      "image/png": "[encoded data removed]",
      "text/plain": [
       "<Figure size 432x288 with 2 Axes>"
      ]
     },
     "metadata": {},
     "output_type": "display_data"
    }
   ],
   "source": [
    "sns.set(font_scale=0.8)\n",
    "ax = sns.heatmap(matrix, annot=True, annot_kws={\"size\": 16}, fmt='g', xticklabels = labels, yticklabels = labels)\n",
    "ax.set(xlabel=\"Myrthe\",\n",
    "       ylabel=\"Ana\")  "
   ]
  },
  {
   "cell_type": "code",
   "execution_count": null,
   "id": "28860402",
   "metadata": {},
   "outputs": [],
   "source": []
  }
 ],
 "metadata": {
  "kernelspec": {
   "display_name": "Python 3 (ipykernel)",
   "language": "python",
   "name": "python3"
  },
  "language_info": {
   "codemirror_mode": {
    "name": "ipython",
    "version": 3
   },
   "file_extension": ".py",
   "mimetype": "text/x-python",
   "name": "python",
   "nbconvert_exporter": "python",
   "pygments_lexer": "ipython3",
   "version": "3.9.5"
  }
 },
 "nbformat": 4,
 "nbformat_minor": 5
}
