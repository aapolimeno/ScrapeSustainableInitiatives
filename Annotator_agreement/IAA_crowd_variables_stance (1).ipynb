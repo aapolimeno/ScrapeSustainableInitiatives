{
 "cells": [
  {
   "cell_type": "code",
   "execution_count": 2,
   "id": "b5406bef",
   "metadata": {},
   "outputs": [],
   "source": [
    "import pandas as pd\n",
    "pd.set_option('display.max_rows', 500)\n",
    "pd.set_option('display.max_columns', 500)\n",
    "pd.set_option('display.width', 1000)"
   ]
  },
  {
   "cell_type": "code",
   "execution_count": 165,
   "id": "f79df944",
   "metadata": {},
   "outputs": [],
   "source": [
    "data_all = pd.read_csv(\"/new_big_annotation_stance.csv\")"
   ]
  },
  {
   "cell_type": "code",
   "execution_count": 166,
   "id": "4459eb05",
   "metadata": {},
   "outputs": [
    {
     "data": {
      "text/html": [
       "<div>\n",
       "<style scoped>\n",
       "    .dataframe tbody tr th:only-of-type {\n",
       "        vertical-align: middle;\n",
       "    }\n",
       "\n",
       "    .dataframe tbody tr th {\n",
       "        vertical-align: top;\n",
       "    }\n",
       "\n",
       "    .dataframe thead th {\n",
       "        text-align: right;\n",
       "    }\n",
       "</style>\n",
       "<table border=\"1\" class=\"dataframe\">\n",
       "  <thead>\n",
       "    <tr style=\"text-align: right;\">\n",
       "      <th></th>\n",
       "      <th>StartDate</th>\n",
       "      <th>EndDate</th>\n",
       "      <th>Status</th>\n",
       "      <th>IPAddress</th>\n",
       "      <th>Progress</th>\n",
       "      <th>Duration (in seconds)</th>\n",
       "      <th>Finished</th>\n",
       "      <th>RecordedDate</th>\n",
       "      <th>ResponseId</th>\n",
       "      <th>RecipientLastName</th>\n",
       "      <th>RecipientFirstName</th>\n",
       "      <th>RecipientEmail</th>\n",
       "      <th>ExternalReference</th>\n",
       "      <th>LocationLatitude</th>\n",
       "      <th>LocationLongitude</th>\n",
       "      <th>DistributionChannel</th>\n",
       "      <th>UserLanguage</th>\n",
       "      <th>Consent</th>\n",
       "      <th>Q3</th>\n",
       "      <th>1_Q5</th>\n",
       "      <th>1_Q6</th>\n",
       "      <th>2_Q5</th>\n",
       "      <th>2_Q6</th>\n",
       "      <th>3_Q5</th>\n",
       "      <th>3_Q6</th>\n",
       "      <th>4_Q5</th>\n",
       "      <th>4_Q6</th>\n",
       "      <th>5_Q5</th>\n",
       "      <th>5_Q6</th>\n",
       "      <th>6_Q5</th>\n",
       "      <th>6_Q6</th>\n",
       "      <th>7_Q5</th>\n",
       "      <th>7_Q6</th>\n",
       "      <th>8_Q5</th>\n",
       "      <th>8_Q6</th>\n",
       "      <th>10_Q5</th>\n",
       "      <th>10_Q6</th>\n",
       "      <th>2_Block_annotation_1</th>\n",
       "      <th>2_Q13</th>\n",
       "      <th>3_Block_annotation_1</th>\n",
       "      <th>3_Q13</th>\n",
       "      <th>4_Block_annotation_1</th>\n",
       "      <th>4_Q13</th>\n",
       "      <th>5_Block_annotation_1</th>\n",
       "      <th>5_Q13</th>\n",
       "      <th>6_Block_annotation_1</th>\n",
       "      <th>6_Q13</th>\n",
       "      <th>7_Block_annotation_1</th>\n",
       "      <th>7_Q13</th>\n",
       "      <th>8_Block_annotation_1</th>\n",
       "      <th>8_Q13</th>\n",
       "      <th>9_Block_annotation_1</th>\n",
       "      <th>9_Q13</th>\n",
       "      <th>1_Q1</th>\n",
       "      <th>1_Q4</th>\n",
       "      <th>1_Q1.1</th>\n",
       "      <th>1_Q2</th>\n",
       "      <th>3_Q1</th>\n",
       "      <th>3_Q2</th>\n",
       "      <th>5_Q1</th>\n",
       "      <th>5_Q2</th>\n",
       "      <th>7_Q1</th>\n",
       "      <th>7_Q2</th>\n",
       "      <th>9_Q1</th>\n",
       "      <th>9_Q2</th>\n",
       "      <th>11_Q1</th>\n",
       "      <th>11_Q2</th>\n",
       "      <th>13_Q1</th>\n",
       "      <th>13_Q2</th>\n",
       "      <th>15_Q1</th>\n",
       "      <th>15_Q2</th>\n",
       "      <th>17_Q1</th>\n",
       "      <th>17_Q2</th>\n",
       "      <th>19_Q1</th>\n",
       "      <th>19_Q2</th>\n",
       "      <th>21_Q1</th>\n",
       "      <th>21_Q2</th>\n",
       "      <th>23_Q1</th>\n",
       "      <th>23_Q2</th>\n",
       "      <th>25_Q1</th>\n",
       "      <th>25_Q2</th>\n",
       "      <th>27_Q1</th>\n",
       "      <th>27_Q2</th>\n",
       "      <th>29_Q1</th>\n",
       "      <th>29_Q2</th>\n",
       "      <th>31_Q1</th>\n",
       "      <th>31_Q2</th>\n",
       "      <th>33_Q1</th>\n",
       "      <th>33_Q2</th>\n",
       "      <th>35_Q1</th>\n",
       "      <th>35_Q2</th>\n",
       "      <th>37_Q1</th>\n",
       "      <th>37_Q2</th>\n",
       "      <th>39_Q1</th>\n",
       "      <th>39_Q2</th>\n",
       "      <th>41_Q1</th>\n",
       "      <th>41_Q2</th>\n",
       "      <th>1_Q1.2</th>\n",
       "      <th>1_Q1.3</th>\n",
       "      <th>1_Q2.1</th>\n",
       "      <th>3_Q1.1</th>\n",
       "      <th>3_Q2.1</th>\n",
       "      <th>5_Q1.1</th>\n",
       "      <th>5_Q2.1</th>\n",
       "      <th>7_Q1.1</th>\n",
       "      <th>7_Q2.1</th>\n",
       "      <th>9_Q1.1</th>\n",
       "      <th>9_Q2.1</th>\n",
       "      <th>11_Q1.1</th>\n",
       "      <th>11_Q2.1</th>\n",
       "      <th>13_Q1.1</th>\n",
       "      <th>13_Q2.1</th>\n",
       "      <th>15_Q1.1</th>\n",
       "      <th>15_Q2.1</th>\n",
       "      <th>17_Q1.1</th>\n",
       "      <th>17_Q2.1</th>\n",
       "      <th>19_Q1.1</th>\n",
       "      <th>19_Q2.1</th>\n",
       "      <th>21_Q1.1</th>\n",
       "      <th>21_Q2.1</th>\n",
       "      <th>23_Q1.1</th>\n",
       "      <th>23_Q2.1</th>\n",
       "      <th>25_Q1.1</th>\n",
       "      <th>25_Q2.1</th>\n",
       "      <th>27_Q1.1</th>\n",
       "      <th>27_Q2.1</th>\n",
       "      <th>1_Q1.4</th>\n",
       "      <th>1_Q3</th>\n",
       "      <th>1_Q1.5</th>\n",
       "      <th>1_Q2.2</th>\n",
       "      <th>3_Q1.2</th>\n",
       "      <th>3_Q2.2</th>\n",
       "      <th>5_Q1.2</th>\n",
       "      <th>5_Q2.2</th>\n",
       "      <th>7_Q1.2</th>\n",
       "      <th>7_Q2.2</th>\n",
       "      <th>9_Q1.2</th>\n",
       "      <th>9_Q2.2</th>\n",
       "      <th>11_Q1.2</th>\n",
       "      <th>11_Q2.2</th>\n",
       "      <th>13_Q1.2</th>\n",
       "      <th>13_Q2.2</th>\n",
       "      <th>15_Q1.2</th>\n",
       "      <th>15_Q2.2</th>\n",
       "      <th>17_Q1.2</th>\n",
       "      <th>17_Q2.2</th>\n",
       "      <th>19_Q1.2</th>\n",
       "      <th>19_Q2.2</th>\n",
       "      <th>21_Q1.2</th>\n",
       "      <th>21_Q2.2</th>\n",
       "      <th>23_Q1.2</th>\n",
       "      <th>23_Q2.2</th>\n",
       "      <th>25_Q1.2</th>\n",
       "      <th>25_Q2.2</th>\n",
       "      <th>27_Q1.2</th>\n",
       "      <th>27_Q2.2</th>\n",
       "      <th>29_Q1.1</th>\n",
       "      <th>29_Q2.1</th>\n",
       "      <th>31_Q1.1</th>\n",
       "      <th>31_Q2.1</th>\n",
       "      <th>33_Q1.1</th>\n",
       "      <th>33_Q2.1</th>\n",
       "      <th>35_Q1.1</th>\n",
       "      <th>35_Q2.1</th>\n",
       "      <th>37_Q1.1</th>\n",
       "      <th>37_Q2.1</th>\n",
       "      <th>39_Q1.1</th>\n",
       "      <th>39_Q2.1</th>\n",
       "      <th>41_Q1.1</th>\n",
       "      <th>41_Q2.1</th>\n",
       "      <th>1_Q1.6</th>\n",
       "      <th>1_Q1.7</th>\n",
       "      <th>1_Q2.3</th>\n",
       "      <th>3_Q1.3</th>\n",
       "      <th>3_Q2.3</th>\n",
       "      <th>5_Q1.3</th>\n",
       "      <th>5_Q2.3</th>\n",
       "      <th>7_Q1.3</th>\n",
       "      <th>7_Q2.3</th>\n",
       "      <th>9_Q1.3</th>\n",
       "      <th>9_Q2.3</th>\n",
       "      <th>11_Q1.3</th>\n",
       "      <th>11_Q2.3</th>\n",
       "      <th>13_Q1.3</th>\n",
       "      <th>13_Q2.3</th>\n",
       "      <th>15_Q1.3</th>\n",
       "      <th>15_Q2.3</th>\n",
       "      <th>17_Q1.3</th>\n",
       "      <th>17_Q2.3</th>\n",
       "      <th>19_Q1.3</th>\n",
       "      <th>19_Q2.3</th>\n",
       "      <th>21_Q1.3</th>\n",
       "      <th>21_Q2.3</th>\n",
       "      <th>23_Q1.3</th>\n",
       "      <th>23_Q2.3</th>\n",
       "      <th>25_Q1.3</th>\n",
       "      <th>25_Q2.3</th>\n",
       "      <th>27_Q1.3</th>\n",
       "      <th>27_Q2.3</th>\n",
       "      <th>29_Q1.2</th>\n",
       "      <th>29_Q2.2</th>\n",
       "      <th>31_Q1.2</th>\n",
       "      <th>31_Q2.2</th>\n",
       "      <th>33_Q1.2</th>\n",
       "      <th>33_Q2.2</th>\n",
       "      <th>35_Q1.2</th>\n",
       "      <th>35_Q2.2</th>\n",
       "      <th>37_Q1.2</th>\n",
       "      <th>37_Q2.2</th>\n",
       "      <th>39_Q1.2</th>\n",
       "      <th>39_Q2.2</th>\n",
       "      <th>41_Q1.2</th>\n",
       "      <th>41_Q2.2</th>\n",
       "      <th>43_Q1</th>\n",
       "      <th>43_Q2</th>\n",
       "      <th>45_Q1</th>\n",
       "      <th>45_Q2</th>\n",
       "      <th>47_Q1</th>\n",
       "      <th>47_Q2</th>\n",
       "      <th>49_Q1</th>\n",
       "      <th>49_Q2</th>\n",
       "      <th>PROLIFIC_PID</th>\n",
       "    </tr>\n",
       "  </thead>\n",
       "  <tbody>\n",
       "    <tr>\n",
       "      <th>0</th>\n",
       "      <td>Start Date</td>\n",
       "      <td>End Date</td>\n",
       "      <td>Response Type</td>\n",
       "      <td>IP Address</td>\n",
       "      <td>Progress</td>\n",
       "      <td>Duration (in seconds)</td>\n",
       "      <td>Finished</td>\n",
       "      <td>Recorded Date</td>\n",
       "      <td>Response ID</td>\n",
       "      <td>Recipient Last Name</td>\n",
       "      <td>Recipient First Name</td>\n",
       "      <td>Recipient Email</td>\n",
       "      <td>External Data Reference</td>\n",
       "      <td>Location Latitude</td>\n",
       "      <td>Location Longitude</td>\n",
       "      <td>Distribution Channel</td>\n",
       "      <td>User Language</td>\n",
       "      <td>This task is part of a scientific study about ...</td>\n",
       "      <td>What is your Prolific ID?\\n\\nPlease note that ...</td>\n",
       "      <td>3495845393 - Read the topic text below. Pay cl...</td>\n",
       "      <td>3495845393 - Read the comment on this discussi...</td>\n",
       "      <td>3495845394 - Read the topic text below. Pay cl...</td>\n",
       "      <td>3495845394 - Read the comment on this discussi...</td>\n",
       "      <td>3495845395 - Read the topic text below. Pay cl...</td>\n",
       "      <td>3495845395 - Read the comment on this discussi...</td>\n",
       "      <td>3495845399 - Read the topic text below. Pay cl...</td>\n",
       "      <td>3495845399 - Read the comment on this discussi...</td>\n",
       "      <td>3495845400 - Read the topic text below. Pay cl...</td>\n",
       "      <td>3495845400 - Read the comment on this discussi...</td>\n",
       "      <td>3495845401 - Read the topic text below. Pay cl...</td>\n",
       "      <td>3495845401 - Read the comment on this discussi...</td>\n",
       "      <td>3495845402 - Read the topic text below. Pay cl...</td>\n",
       "      <td>3495845402 - Read the comment on this discussi...</td>\n",
       "      <td>99 - Read the topic text below. Pay close atte...</td>\n",
       "      <td>99 - Read the comment on this discussion topic...</td>\n",
       "      <td>101 - Read the topic text below. Pay close att...</td>\n",
       "      <td>101 - Read the comment on this discussion topi...</td>\n",
       "      <td>3492674527 - Read the topic text below. Pay cl...</td>\n",
       "      <td>3492674527 - Read the comment on this discussi...</td>\n",
       "      <td>3492674528 - Read the topic text below. Pay cl...</td>\n",
       "      <td>3492674528 - Read the comment on this discussi...</td>\n",
       "      <td>3492674530 - Read the topic text below. Pay cl...</td>\n",
       "      <td>3492674530 - Read the comment on this discussi...</td>\n",
       "      <td>3492674531 - Read the topic text below. Pay cl...</td>\n",
       "      <td>3492674531 - Read the comment on this discussi...</td>\n",
       "      <td>3492674532 - Read the topic text below. Pay cl...</td>\n",
       "      <td>3492674532 - Read the comment on this discussi...</td>\n",
       "      <td>3492674533 - Read the topic text below. Pay cl...</td>\n",
       "      <td>3492674533 - Read the comment on this discussi...</td>\n",
       "      <td>3492674534 - Read the topic text below. Pay cl...</td>\n",
       "      <td>3492674534 - Read the comment on this discussi...</td>\n",
       "      <td>3492674535 - Read the topic text below. Pay cl...</td>\n",
       "      <td>3492674535 - Read the comment on this discussi...</td>\n",
       "      <td>3495845412 - Read the topic text below. Pay cl...</td>\n",
       "      <td>3495845412 - Read the comment on this discussi...</td>\n",
       "      <td>'3492674527 - Read the topic text below. Pay c...</td>\n",
       "      <td>'3492674527 - Read the comment on this discuss...</td>\n",
       "      <td>3492674537 - Read the topic text below. Pay cl...</td>\n",
       "      <td>3492674537 - Read the comment on this discussi...</td>\n",
       "      <td>3492674538 - Read the topic text below. Pay cl...</td>\n",
       "      <td>3492674538 - Read the comment on this discussi...</td>\n",
       "      <td>3492674539 - Read the topic text below. Pay cl...</td>\n",
       "      <td>3492674539 - Read the comment on this discussi...</td>\n",
       "      <td>3492674540 - Read the topic text below. Pay cl...</td>\n",
       "      <td>3492674540 - Read the comment on this discussi...</td>\n",
       "      <td>3492674541 - Read the topic text below. Pay cl...</td>\n",
       "      <td>3492674541 - Read the comment on this discussi...</td>\n",
       "      <td>3492674542 - Read the topic text below. Pay cl...</td>\n",
       "      <td>3492674542 - Read the comment on this discussi...</td>\n",
       "      <td>3492674543 - Read the topic text below. Pay cl...</td>\n",
       "      <td>3492674543 - Read the comment on this discussi...</td>\n",
       "      <td>3492674544 - Read the topic text below. Pay cl...</td>\n",
       "      <td>3492674544 - Read the comment on this discussi...</td>\n",
       "      <td>3492674545 - Read the topic text below. Pay cl...</td>\n",
       "      <td>3492674545 - Read the comment on this discussi...</td>\n",
       "      <td>3492674546 - Read the topic text below. Pay cl...</td>\n",
       "      <td>3492674546 - Read the comment on this discussi...</td>\n",
       "      <td>3492674549 - Read the topic text below. Pay cl...</td>\n",
       "      <td>3492674549 - Read the comment on this discussi...</td>\n",
       "      <td>3492674550 - Read the topic text below. Pay cl...</td>\n",
       "      <td>3492674550 - Read the comment on this discussi...</td>\n",
       "      <td>3492674551 - Read the topic text below. Pay cl...</td>\n",
       "      <td>3492674551 - Read the comment on this discussi...</td>\n",
       "      <td>3492674552 - Read the topic text below. Pay cl...</td>\n",
       "      <td>3492674552 - Read the comment on this discussi...</td>\n",
       "      <td>3492674553 - Read the topic text below. Pay cl...</td>\n",
       "      <td>3492674553 - Read the comment on this discussi...</td>\n",
       "      <td>3492674554 - Read the topic text below. Pay cl...</td>\n",
       "      <td>3492674554 - Read the comment on this discussi...</td>\n",
       "      <td>3492674555 - Read the topic text below. Pay cl...</td>\n",
       "      <td>3492674555 - Read the comment on this discussi...</td>\n",
       "      <td>3492674557 - Read the topic text below. Pay cl...</td>\n",
       "      <td>3492674557 - Read the comment on this discussi...</td>\n",
       "      <td>3492674559 - Read the topic text below. Pay cl...</td>\n",
       "      <td>3492674559 - Read the comment on this discussi...</td>\n",
       "      <td>3492674560 - Read the topic text below. Pay cl...</td>\n",
       "      <td>3492674560 - Read the comment on this discussi...</td>\n",
       "      <td>34958454123495845404 - Read the topic text bel...</td>\n",
       "      <td>3492674561 - Read the topic text below. Pay cl...</td>\n",
       "      <td>3492674561 - Read the comment on this discussi...</td>\n",
       "      <td>'3492674556 - Read the topic text below. Pay c...</td>\n",
       "      <td>'3492674556 - Read the comment on this discuss...</td>\n",
       "      <td>3492674562 - Read the topic text below. Pay cl...</td>\n",
       "      <td>3492674562 - Read the comment on this discussi...</td>\n",
       "      <td>3492674563 - Read the topic text below. Pay cl...</td>\n",
       "      <td>3492674563 - Read the comment on this discussi...</td>\n",
       "      <td>3492674564 - Read the topic text below. Pay cl...</td>\n",
       "      <td>3492674564 - Read the comment on this discussi...</td>\n",
       "      <td>3492674565 - Read the topic text below. Pay cl...</td>\n",
       "      <td>3492674565 - Read the comment on this discussi...</td>\n",
       "      <td>3492674566 - Read the topic text below. Pay cl...</td>\n",
       "      <td>3492674566 - Read the comment on this discussi...</td>\n",
       "      <td>3492674567 - Read the topic text below. Pay cl...</td>\n",
       "      <td>3492674567 - Read the comment on this discussi...</td>\n",
       "      <td>3492674568 - Read the topic text below. Pay cl...</td>\n",
       "      <td>3492674568 - Read the comment on this discussi...</td>\n",
       "      <td>3492674569 - Read the topic text below. Pay cl...</td>\n",
       "      <td>3492674569 - Read the comment on this discussi...</td>\n",
       "      <td>3492674570 - Read the topic text below. Pay cl...</td>\n",
       "      <td>3492674570 - Read the comment on this discussi...</td>\n",
       "      <td>3492674572 - Read the topic text below. Pay cl...</td>\n",
       "      <td>3492674572 - Read the comment on this discussi...</td>\n",
       "      <td>3492674573 - Read the topic text below. Pay cl...</td>\n",
       "      <td>3492674573 - Read the comment on this discussi...</td>\n",
       "      <td>3492674574 - Read the topic text below. Pay cl...</td>\n",
       "      <td>3492674574 - Read the comment on this discussi...</td>\n",
       "      <td>3495845409 - Read the topic text below. Pay cl...</td>\n",
       "      <td>3495845409 - Read the comment on this discussi...</td>\n",
       "      <td>3492674576 - Read the topic text below. Pay cl...</td>\n",
       "      <td>3492674576 - Read the comment on this discussi...</td>\n",
       "      <td>3492674577 - Read the topic text below. Pay cl...</td>\n",
       "      <td>3492674577 - Read the comment on this discussi...</td>\n",
       "      <td>3492674578 - Read the topic text below. Pay cl...</td>\n",
       "      <td>3492674578 - Read the comment on this discussi...</td>\n",
       "      <td>3492674579 - Read the topic text below. Pay cl...</td>\n",
       "      <td>3492674579 - Read the comment on this discussi...</td>\n",
       "      <td>3492674580 - Read the topic text below. Pay cl...</td>\n",
       "      <td>3492674580 - Read the comment on this discussi...</td>\n",
       "      <td>3492674581 - Read the topic text below. Pay cl...</td>\n",
       "      <td>3492674581 - Read the comment on this discussi...</td>\n",
       "      <td>3492674582 - Read the topic text below. Pay cl...</td>\n",
       "      <td>3492674582 - Read the comment on this discussi...</td>\n",
       "      <td>3492674584 - Read the topic text below. Pay cl...</td>\n",
       "      <td>3492674584 - Read the comment on this discussi...</td>\n",
       "      <td>3492674585 - Read the topic text below. Pay cl...</td>\n",
       "      <td>3492674585 - Read the comment on this discussi...</td>\n",
       "      <td>3492674586 - Read the topic text below. Pay cl...</td>\n",
       "      <td>3492674586 - Read the comment on this discussi...</td>\n",
       "      <td>3492674587 - Read the topic text below. Pay cl...</td>\n",
       "      <td>3492674587 - Read the comment on this discussi...</td>\n",
       "      <td>3492674588 - Read the topic text below. Pay cl...</td>\n",
       "      <td>3492674588 - Read the comment on this discussi...</td>\n",
       "      <td>3492674590 - Read the topic text below. Pay cl...</td>\n",
       "      <td>3492674590 - Read the comment on this discussi...</td>\n",
       "      <td>3492674591 - Read the topic text below. Pay cl...</td>\n",
       "      <td>3492674591 - Read the comment on this discussi...</td>\n",
       "      <td>3492674592 - Read the topic text below. Pay cl...</td>\n",
       "      <td>3492674592 - Read the comment on this discussi...</td>\n",
       "      <td>3492674594 - Read the topic text below. Pay cl...</td>\n",
       "      <td>3492674594 - Read the comment on this discussi...</td>\n",
       "      <td>3492674595 - Read the topic text below. Pay cl...</td>\n",
       "      <td>3492674595 - Read the comment on this discussi...</td>\n",
       "      <td>3492674596 - Read the topic text below. Pay cl...</td>\n",
       "      <td>3492674596 - Read the comment on this discussi...</td>\n",
       "      <td>3492674597 - Read the topic text below. Pay cl...</td>\n",
       "      <td>3492674597 - Read the comment on this discussi...</td>\n",
       "      <td>3492674598 - Read the topic text below. Pay cl...</td>\n",
       "      <td>3492674598 - Read the comment on this discussi...</td>\n",
       "      <td>3492674599 - Read the topic text below. Pay cl...</td>\n",
       "      <td>3492674599 - Read the comment on this discussi...</td>\n",
       "      <td>34958454123495845408 - Read the topic text bel...</td>\n",
       "      <td>3492674600 - Read the topic text below. Pay cl...</td>\n",
       "      <td>3492674600 - Read the comment on this discussi...</td>\n",
       "      <td>3492674601 - Read the topic text below. Pay cl...</td>\n",
       "      <td>3492674601 - Read the comment on this discussi...</td>\n",
       "      <td>3492674602 - Read the topic text below. Pay cl...</td>\n",
       "      <td>3492674602 - Read the comment on this discussi...</td>\n",
       "      <td>3492674603 - Read the topic text below. Pay cl...</td>\n",
       "      <td>3492674603 - Read the comment on this discussi...</td>\n",
       "      <td>3492674604 - Read the topic text below. Pay cl...</td>\n",
       "      <td>3492674604 - Read the comment on this discussi...</td>\n",
       "      <td>3492674605 - Read the topic text below. Pay cl...</td>\n",
       "      <td>3492674605 - Read the comment on this discussi...</td>\n",
       "      <td>3492674606 - Read the topic text below. Pay cl...</td>\n",
       "      <td>3492674606 - Read the comment on this discussi...</td>\n",
       "      <td>3492674607 - Read the topic text below. Pay cl...</td>\n",
       "      <td>3492674607 - Read the comment on this discussi...</td>\n",
       "      <td>3492674608 - Read the topic text below. Pay cl...</td>\n",
       "      <td>3492674608 - Read the comment on this discussi...</td>\n",
       "      <td>3492674609 - Read the topic text below. Pay cl...</td>\n",
       "      <td>3492674609 - Read the comment on this discussi...</td>\n",
       "      <td>3492674610 - Read the topic text below. Pay cl...</td>\n",
       "      <td>3492674610 - Read the comment on this discussi...</td>\n",
       "      <td>3492674613 - Read the topic text below. Pay cl...</td>\n",
       "      <td>3492674613 - Read the comment on this discussi...</td>\n",
       "      <td>3492674614 - Read the topic text below. Pay cl...</td>\n",
       "      <td>3492674614 - Read the comment on this discussi...</td>\n",
       "      <td>3492674615 - Read the topic text below. Pay cl...</td>\n",
       "      <td>3492674615 - Read the comment on this discussi...</td>\n",
       "      <td>3492674616 - Read the topic text below. Pay cl...</td>\n",
       "      <td>3492674616 - Read the comment on this discussi...</td>\n",
       "      <td>3492674617 - Read the topic text below. Pay cl...</td>\n",
       "      <td>3492674617 - Read the comment on this discussi...</td>\n",
       "      <td>3492674618 - Read the topic text below. Pay cl...</td>\n",
       "      <td>3492674618 - Read the comment on this discussi...</td>\n",
       "      <td>3492674619 - Read the topic text below. Pay cl...</td>\n",
       "      <td>3492674619 - Read the comment on this discussi...</td>\n",
       "      <td>3492674620 - Read the topic text below. Pay cl...</td>\n",
       "      <td>3492674620 - Read the comment on this discussi...</td>\n",
       "      <td>3492674621 - Read the topic text below. Pay cl...</td>\n",
       "      <td>3492674621 - Read the comment on this discussi...</td>\n",
       "      <td>3492674622 - Read the topic text below. Pay cl...</td>\n",
       "      <td>3492674622 - Read the comment on this discussi...</td>\n",
       "      <td>3492674623 - Read the topic text below. Pay cl...</td>\n",
       "      <td>3492674623 - Read the comment on this discussi...</td>\n",
       "      <td>3492674624 - Read the topic text below. Pay cl...</td>\n",
       "      <td>3492674624 - Read the comment on this discussi...</td>\n",
       "      <td>3492674625 - Read the topic text below. Pay cl...</td>\n",
       "      <td>3492674625 - Read the comment on this discussi...</td>\n",
       "      <td>3492674626 - Read the topic text below. Pay cl...</td>\n",
       "      <td>3492674626 - Read the comment on this discussi...</td>\n",
       "      <td>PROLIFIC_PID</td>\n",
       "    </tr>\n",
       "  </tbody>\n",
       "</table>\n",
       "</div>"
      ],
      "text/plain": [
       "    StartDate   EndDate         Status   IPAddress  Progress  Duration (in seconds)  Finished   RecordedDate   ResponseId    RecipientLastName    RecipientFirstName   RecipientEmail        ExternalReference   LocationLatitude   LocationLongitude   DistributionChannel   UserLanguage                                            Consent                                                 Q3                                               1_Q5                                               1_Q6                                               2_Q5                                               2_Q6                                               3_Q5                                               3_Q6                                               4_Q5                                               4_Q6                                               5_Q5                                               5_Q6                                               6_Q5                                               6_Q6  \\\n",
       "0  Start Date  End Date  Response Type  IP Address  Progress  Duration (in seconds)  Finished  Recorded Date  Response ID  Recipient Last Name  Recipient First Name  Recipient Email  External Data Reference  Location Latitude  Location Longitude  Distribution Channel  User Language  This task is part of a scientific study about ...  What is your Prolific ID?\\n\\nPlease note that ...  3495845393 - Read the topic text below. Pay cl...  3495845393 - Read the comment on this discussi...  3495845394 - Read the topic text below. Pay cl...  3495845394 - Read the comment on this discussi...  3495845395 - Read the topic text below. Pay cl...  3495845395 - Read the comment on this discussi...  3495845399 - Read the topic text below. Pay cl...  3495845399 - Read the comment on this discussi...  3495845400 - Read the topic text below. Pay cl...  3495845400 - Read the comment on this discussi...  3495845401 - Read the topic text below. Pay cl...  3495845401 - Read the comment on this discussi...   \n",
       "\n",
       "                                                7_Q5                                               7_Q6                                               8_Q5                                               8_Q6                                              10_Q5                                              10_Q6                               2_Block_annotation_1                                              2_Q13                               3_Block_annotation_1                                              3_Q13                               4_Block_annotation_1                                              4_Q13                               5_Block_annotation_1                                              5_Q13                               6_Block_annotation_1                                              6_Q13                               7_Block_annotation_1                                              7_Q13                               8_Block_annotation_1  \\\n",
       "0  3495845402 - Read the topic text below. Pay cl...  3495845402 - Read the comment on this discussi...  99 - Read the topic text below. Pay close atte...  99 - Read the comment on this discussion topic...  101 - Read the topic text below. Pay close att...  101 - Read the comment on this discussion topi...  3492674527 - Read the topic text below. Pay cl...  3492674527 - Read the comment on this discussi...  3492674528 - Read the topic text below. Pay cl...  3492674528 - Read the comment on this discussi...  3492674530 - Read the topic text below. Pay cl...  3492674530 - Read the comment on this discussi...  3492674531 - Read the topic text below. Pay cl...  3492674531 - Read the comment on this discussi...  3492674532 - Read the topic text below. Pay cl...  3492674532 - Read the comment on this discussi...  3492674533 - Read the topic text below. Pay cl...  3492674533 - Read the comment on this discussi...  3492674534 - Read the topic text below. Pay cl...   \n",
       "\n",
       "                                               8_Q13                               9_Block_annotation_1                                              9_Q13                                               1_Q1                                               1_Q4                                             1_Q1.1                                               1_Q2                                               3_Q1                                               3_Q2                                               5_Q1                                               5_Q2                                               7_Q1                                               7_Q2                                               9_Q1                                               9_Q2                                              11_Q1                                              11_Q2                                              13_Q1                                              13_Q2  \\\n",
       "0  3492674534 - Read the comment on this discussi...  3492674535 - Read the topic text below. Pay cl...  3492674535 - Read the comment on this discussi...  3495845412 - Read the topic text below. Pay cl...  3495845412 - Read the comment on this discussi...  '3492674527 - Read the topic text below. Pay c...  '3492674527 - Read the comment on this discuss...  3492674537 - Read the topic text below. Pay cl...  3492674537 - Read the comment on this discussi...  3492674538 - Read the topic text below. Pay cl...  3492674538 - Read the comment on this discussi...  3492674539 - Read the topic text below. Pay cl...  3492674539 - Read the comment on this discussi...  3492674540 - Read the topic text below. Pay cl...  3492674540 - Read the comment on this discussi...  3492674541 - Read the topic text below. Pay cl...  3492674541 - Read the comment on this discussi...  3492674542 - Read the topic text below. Pay cl...  3492674542 - Read the comment on this discussi...   \n",
       "\n",
       "                                               15_Q1                                              15_Q2                                              17_Q1                                              17_Q2                                              19_Q1                                              19_Q2                                              21_Q1                                              21_Q2                                              23_Q1                                              23_Q2                                              25_Q1                                              25_Q2                                              27_Q1                                              27_Q2                                              29_Q1                                              29_Q2                                              31_Q1                                              31_Q2                                              33_Q1  \\\n",
       "0  3492674543 - Read the topic text below. Pay cl...  3492674543 - Read the comment on this discussi...  3492674544 - Read the topic text below. Pay cl...  3492674544 - Read the comment on this discussi...  3492674545 - Read the topic text below. Pay cl...  3492674545 - Read the comment on this discussi...  3492674546 - Read the topic text below. Pay cl...  3492674546 - Read the comment on this discussi...  3492674549 - Read the topic text below. Pay cl...  3492674549 - Read the comment on this discussi...  3492674550 - Read the topic text below. Pay cl...  3492674550 - Read the comment on this discussi...  3492674551 - Read the topic text below. Pay cl...  3492674551 - Read the comment on this discussi...  3492674552 - Read the topic text below. Pay cl...  3492674552 - Read the comment on this discussi...  3492674553 - Read the topic text below. Pay cl...  3492674553 - Read the comment on this discussi...  3492674554 - Read the topic text below. Pay cl...   \n",
       "\n",
       "                                               33_Q2                                              35_Q1                                              35_Q2                                              37_Q1                                              37_Q2                                              39_Q1                                              39_Q2                                              41_Q1                                              41_Q2                                             1_Q1.2                                             1_Q1.3                                             1_Q2.1                                             3_Q1.1                                             3_Q2.1                                             5_Q1.1                                             5_Q2.1                                             7_Q1.1                                             7_Q2.1                                             9_Q1.1  \\\n",
       "0  3492674554 - Read the comment on this discussi...  3492674555 - Read the topic text below. Pay cl...  3492674555 - Read the comment on this discussi...  3492674557 - Read the topic text below. Pay cl...  3492674557 - Read the comment on this discussi...  3492674559 - Read the topic text below. Pay cl...  3492674559 - Read the comment on this discussi...  3492674560 - Read the topic text below. Pay cl...  3492674560 - Read the comment on this discussi...  34958454123495845404 - Read the topic text bel...  3492674561 - Read the topic text below. Pay cl...  3492674561 - Read the comment on this discussi...  '3492674556 - Read the topic text below. Pay c...  '3492674556 - Read the comment on this discuss...  3492674562 - Read the topic text below. Pay cl...  3492674562 - Read the comment on this discussi...  3492674563 - Read the topic text below. Pay cl...  3492674563 - Read the comment on this discussi...  3492674564 - Read the topic text below. Pay cl...   \n",
       "\n",
       "                                              9_Q2.1                                            11_Q1.1                                            11_Q2.1                                            13_Q1.1                                            13_Q2.1                                            15_Q1.1                                            15_Q2.1                                            17_Q1.1                                            17_Q2.1                                            19_Q1.1                                            19_Q2.1                                            21_Q1.1                                            21_Q2.1                                            23_Q1.1                                            23_Q2.1                                            25_Q1.1                                            25_Q2.1                                            27_Q1.1                                            27_Q2.1  \\\n",
       "0  3492674564 - Read the comment on this discussi...  3492674565 - Read the topic text below. Pay cl...  3492674565 - Read the comment on this discussi...  3492674566 - Read the topic text below. Pay cl...  3492674566 - Read the comment on this discussi...  3492674567 - Read the topic text below. Pay cl...  3492674567 - Read the comment on this discussi...  3492674568 - Read the topic text below. Pay cl...  3492674568 - Read the comment on this discussi...  3492674569 - Read the topic text below. Pay cl...  3492674569 - Read the comment on this discussi...  3492674570 - Read the topic text below. Pay cl...  3492674570 - Read the comment on this discussi...  3492674572 - Read the topic text below. Pay cl...  3492674572 - Read the comment on this discussi...  3492674573 - Read the topic text below. Pay cl...  3492674573 - Read the comment on this discussi...  3492674574 - Read the topic text below. Pay cl...  3492674574 - Read the comment on this discussi...   \n",
       "\n",
       "                                              1_Q1.4                                               1_Q3                                             1_Q1.5                                             1_Q2.2                                             3_Q1.2                                             3_Q2.2                                             5_Q1.2                                             5_Q2.2                                             7_Q1.2                                             7_Q2.2                                             9_Q1.2                                             9_Q2.2                                            11_Q1.2                                            11_Q2.2                                            13_Q1.2                                            13_Q2.2                                            15_Q1.2                                            15_Q2.2                                            17_Q1.2  \\\n",
       "0  3495845409 - Read the topic text below. Pay cl...  3495845409 - Read the comment on this discussi...  3492674576 - Read the topic text below. Pay cl...  3492674576 - Read the comment on this discussi...  3492674577 - Read the topic text below. Pay cl...  3492674577 - Read the comment on this discussi...  3492674578 - Read the topic text below. Pay cl...  3492674578 - Read the comment on this discussi...  3492674579 - Read the topic text below. Pay cl...  3492674579 - Read the comment on this discussi...  3492674580 - Read the topic text below. Pay cl...  3492674580 - Read the comment on this discussi...  3492674581 - Read the topic text below. Pay cl...  3492674581 - Read the comment on this discussi...  3492674582 - Read the topic text below. Pay cl...  3492674582 - Read the comment on this discussi...  3492674584 - Read the topic text below. Pay cl...  3492674584 - Read the comment on this discussi...  3492674585 - Read the topic text below. Pay cl...   \n",
       "\n",
       "                                             17_Q2.2                                            19_Q1.2                                            19_Q2.2                                            21_Q1.2                                            21_Q2.2                                            23_Q1.2                                            23_Q2.2                                            25_Q1.2                                            25_Q2.2                                            27_Q1.2                                            27_Q2.2                                            29_Q1.1                                            29_Q2.1                                            31_Q1.1                                            31_Q2.1                                            33_Q1.1                                            33_Q2.1                                            35_Q1.1                                            35_Q2.1  \\\n",
       "0  3492674585 - Read the comment on this discussi...  3492674586 - Read the topic text below. Pay cl...  3492674586 - Read the comment on this discussi...  3492674587 - Read the topic text below. Pay cl...  3492674587 - Read the comment on this discussi...  3492674588 - Read the topic text below. Pay cl...  3492674588 - Read the comment on this discussi...  3492674590 - Read the topic text below. Pay cl...  3492674590 - Read the comment on this discussi...  3492674591 - Read the topic text below. Pay cl...  3492674591 - Read the comment on this discussi...  3492674592 - Read the topic text below. Pay cl...  3492674592 - Read the comment on this discussi...  3492674594 - Read the topic text below. Pay cl...  3492674594 - Read the comment on this discussi...  3492674595 - Read the topic text below. Pay cl...  3492674595 - Read the comment on this discussi...  3492674596 - Read the topic text below. Pay cl...  3492674596 - Read the comment on this discussi...   \n",
       "\n",
       "                                             37_Q1.1                                            37_Q2.1                                            39_Q1.1                                            39_Q2.1                                            41_Q1.1                                            41_Q2.1                                             1_Q1.6                                             1_Q1.7                                             1_Q2.3                                             3_Q1.3                                             3_Q2.3                                             5_Q1.3                                             5_Q2.3                                             7_Q1.3                                             7_Q2.3                                             9_Q1.3                                             9_Q2.3                                            11_Q1.3                                            11_Q2.3  \\\n",
       "0  3492674597 - Read the topic text below. Pay cl...  3492674597 - Read the comment on this discussi...  3492674598 - Read the topic text below. Pay cl...  3492674598 - Read the comment on this discussi...  3492674599 - Read the topic text below. Pay cl...  3492674599 - Read the comment on this discussi...  34958454123495845408 - Read the topic text bel...  3492674600 - Read the topic text below. Pay cl...  3492674600 - Read the comment on this discussi...  3492674601 - Read the topic text below. Pay cl...  3492674601 - Read the comment on this discussi...  3492674602 - Read the topic text below. Pay cl...  3492674602 - Read the comment on this discussi...  3492674603 - Read the topic text below. Pay cl...  3492674603 - Read the comment on this discussi...  3492674604 - Read the topic text below. Pay cl...  3492674604 - Read the comment on this discussi...  3492674605 - Read the topic text below. Pay cl...  3492674605 - Read the comment on this discussi...   \n",
       "\n",
       "                                             13_Q1.3                                            13_Q2.3                                            15_Q1.3                                            15_Q2.3                                            17_Q1.3                                            17_Q2.3                                            19_Q1.3                                            19_Q2.3                                            21_Q1.3                                            21_Q2.3                                            23_Q1.3                                            23_Q2.3                                            25_Q1.3                                            25_Q2.3                                            27_Q1.3                                            27_Q2.3                                            29_Q1.2                                            29_Q2.2                                            31_Q1.2  \\\n",
       "0  3492674606 - Read the topic text below. Pay cl...  3492674606 - Read the comment on this discussi...  3492674607 - Read the topic text below. Pay cl...  3492674607 - Read the comment on this discussi...  3492674608 - Read the topic text below. Pay cl...  3492674608 - Read the comment on this discussi...  3492674609 - Read the topic text below. Pay cl...  3492674609 - Read the comment on this discussi...  3492674610 - Read the topic text below. Pay cl...  3492674610 - Read the comment on this discussi...  3492674613 - Read the topic text below. Pay cl...  3492674613 - Read the comment on this discussi...  3492674614 - Read the topic text below. Pay cl...  3492674614 - Read the comment on this discussi...  3492674615 - Read the topic text below. Pay cl...  3492674615 - Read the comment on this discussi...  3492674616 - Read the topic text below. Pay cl...  3492674616 - Read the comment on this discussi...  3492674617 - Read the topic text below. Pay cl...   \n",
       "\n",
       "                                             31_Q2.2                                            33_Q1.2                                            33_Q2.2                                            35_Q1.2                                            35_Q2.2                                            37_Q1.2                                            37_Q2.2                                            39_Q1.2                                            39_Q2.2                                            41_Q1.2                                            41_Q2.2                                              43_Q1                                              43_Q2                                              45_Q1                                              45_Q2                                              47_Q1                                              47_Q2                                              49_Q1                                              49_Q2  PROLIFIC_PID  \n",
       "0  3492674617 - Read the comment on this discussi...  3492674618 - Read the topic text below. Pay cl...  3492674618 - Read the comment on this discussi...  3492674619 - Read the topic text below. Pay cl...  3492674619 - Read the comment on this discussi...  3492674620 - Read the topic text below. Pay cl...  3492674620 - Read the comment on this discussi...  3492674621 - Read the topic text below. Pay cl...  3492674621 - Read the comment on this discussi...  3492674622 - Read the topic text below. Pay cl...  3492674622 - Read the comment on this discussi...  3492674623 - Read the topic text below. Pay cl...  3492674623 - Read the comment on this discussi...  3492674624 - Read the topic text below. Pay cl...  3492674624 - Read the comment on this discussi...  3492674625 - Read the topic text below. Pay cl...  3492674625 - Read the comment on this discussi...  3492674626 - Read the topic text below. Pay cl...  3492674626 - Read the comment on this discussi...  PROLIFIC_PID  "
      ]
     },
     "execution_count": 166,
     "metadata": {},
     "output_type": "execute_result"
    }
   ],
   "source": [
    "data_all[:1]"
   ]
  },
  {
   "cell_type": "code",
   "execution_count": 167,
   "id": "dca3c08a",
   "metadata": {},
   "outputs": [],
   "source": [
    "filter_col = [col for col in data_all.columns if '_' in col]\n",
    "filter_col = [col for col in filter_col if \"PID\" not in col]\n",
    "filter_col = [col for col in filter_col if \"ImportId\" not in col]\n",
    "filter_col = [col for col in filter_col if \"below\" not in col]"
   ]
  },
  {
   "cell_type": "code",
   "execution_count": 168,
   "id": "5b137e91",
   "metadata": {},
   "outputs": [],
   "source": [
    "data_all.columns, data_all.iloc[0] = data_all.iloc[0].to_list(), data_all.columns"
   ]
  },
  {
   "cell_type": "code",
   "execution_count": 169,
   "id": "3af0783e",
   "metadata": {},
   "outputs": [],
   "source": [
    "data_all.columns = data_all.columns.str.split(\"-\").str[0]\n",
    "data_all.rename(columns={ data_all.columns[17]: \"consent\" }, inplace = True)"
   ]
  },
  {
   "cell_type": "code",
   "execution_count": 170,
   "id": "dc9f1a3b",
   "metadata": {},
   "outputs": [],
   "source": [
    "data_annotations = data_all[2:]\n",
    "transposed_annotations = data_annotations.T\n",
    "transposed_annotations.columns = transposed_annotations.iloc[18]\n",
    "transposed_annotations = transposed_annotations[19:]"
   ]
  },
  {
   "cell_type": "code",
   "execution_count": 171,
   "id": "20bee22e",
   "metadata": {},
   "outputs": [
    {
     "data": {
      "text/html": [
       "<div>\n",
       "<style scoped>\n",
       "    .dataframe tbody tr th:only-of-type {\n",
       "        vertical-align: middle;\n",
       "    }\n",
       "\n",
       "    .dataframe tbody tr th {\n",
       "        vertical-align: top;\n",
       "    }\n",
       "\n",
       "    .dataframe thead th {\n",
       "        text-align: right;\n",
       "    }\n",
       "</style>\n",
       "<table border=\"1\" class=\"dataframe\">\n",
       "  <thead>\n",
       "    <tr style=\"text-align: right;\">\n",
       "      <th>What is your Prolific ID?\n",
       "\n",
       "Please note that this response should auto</th>\n",
       "      <th>63d3fd1b0a21df494a093c51</th>\n",
       "      <th>5f60bbdf0c4792015f140d30</th>\n",
       "      <th>612f36ffdba08ffd6032560a</th>\n",
       "      <th>613f25c7b60b1f9c170a6db3</th>\n",
       "      <th>615a0198a1a2d449a781b8a5</th>\n",
       "    </tr>\n",
       "  </thead>\n",
       "  <tbody>\n",
       "    <tr>\n",
       "      <th>3495845393</th>\n",
       "      <td>No, it is not a discussion topic</td>\n",
       "      <td>Yes, it is a discussion topic</td>\n",
       "      <td>Yes, it is a discussion topic</td>\n",
       "      <td>Yes, it is a discussion topic</td>\n",
       "      <td>Yes, it is a discussion topic</td>\n",
       "    </tr>\n",
       "    <tr>\n",
       "      <th>3495845393</th>\n",
       "      <td>SUPPORT</td>\n",
       "      <td>SUPPORT</td>\n",
       "      <td>SUPPORT</td>\n",
       "      <td>SUPPORT</td>\n",
       "      <td>SUPPORT</td>\n",
       "    </tr>\n",
       "  </tbody>\n",
       "</table>\n",
       "</div>"
      ],
      "text/plain": [
       "What is your Prolific ID?\n",
       "\n",
       "Please note that this response should auto          63d3fd1b0a21df494a093c51       5f60bbdf0c4792015f140d30       612f36ffdba08ffd6032560a       613f25c7b60b1f9c170a6db3       615a0198a1a2d449a781b8a5\n",
       "3495845393                                                             No, it is not a discussion topic  Yes, it is a discussion topic  Yes, it is a discussion topic  Yes, it is a discussion topic  Yes, it is a discussion topic\n",
       "3495845393                                                                                      SUPPORT                        SUPPORT                        SUPPORT                        SUPPORT                        SUPPORT"
      ]
     },
     "execution_count": 171,
     "metadata": {},
     "output_type": "execute_result"
    }
   ],
   "source": [
    "transposed_annotations[:2]"
   ]
  },
  {
   "cell_type": "code",
   "execution_count": 172,
   "id": "49deb59d",
   "metadata": {},
   "outputs": [
    {
     "data": {
      "text/html": [
       "<div>\n",
       "<style scoped>\n",
       "    .dataframe tbody tr th:only-of-type {\n",
       "        vertical-align: middle;\n",
       "    }\n",
       "\n",
       "    .dataframe tbody tr th {\n",
       "        vertical-align: top;\n",
       "    }\n",
       "\n",
       "    .dataframe thead th {\n",
       "        text-align: right;\n",
       "    }\n",
       "</style>\n",
       "<table border=\"1\" class=\"dataframe\">\n",
       "  <thead>\n",
       "    <tr style=\"text-align: right;\">\n",
       "      <th>What is your Prolific ID?\n",
       "\n",
       "Please note that this response should auto</th>\n",
       "      <th>63d3fd1b0a21df494a093c51</th>\n",
       "      <th>5f60bbdf0c4792015f140d30</th>\n",
       "      <th>612f36ffdba08ffd6032560a</th>\n",
       "      <th>613f25c7b60b1f9c170a6db3</th>\n",
       "      <th>615a0198a1a2d449a781b8a5</th>\n",
       "    </tr>\n",
       "  </thead>\n",
       "  <tbody>\n",
       "    <tr>\n",
       "      <th>3495845393</th>\n",
       "      <td>No, it is not a discussion topic</td>\n",
       "      <td>Yes, it is a discussion topic</td>\n",
       "      <td>Yes, it is a discussion topic</td>\n",
       "      <td>Yes, it is a discussion topic</td>\n",
       "      <td>Yes, it is a discussion topic</td>\n",
       "    </tr>\n",
       "    <tr>\n",
       "      <th>3495845393</th>\n",
       "      <td>SUPPORT</td>\n",
       "      <td>SUPPORT</td>\n",
       "      <td>SUPPORT</td>\n",
       "      <td>SUPPORT</td>\n",
       "      <td>SUPPORT</td>\n",
       "    </tr>\n",
       "  </tbody>\n",
       "</table>\n",
       "</div>"
      ],
      "text/plain": [
       "What is your Prolific ID?\n",
       "\n",
       "Please note that this response should auto          63d3fd1b0a21df494a093c51       5f60bbdf0c4792015f140d30       612f36ffdba08ffd6032560a       613f25c7b60b1f9c170a6db3       615a0198a1a2d449a781b8a5\n",
       "3495845393                                                             No, it is not a discussion topic  Yes, it is a discussion topic  Yes, it is a discussion topic  Yes, it is a discussion topic  Yes, it is a discussion topic\n",
       "3495845393                                                                                      SUPPORT                        SUPPORT                        SUPPORT                        SUPPORT                        SUPPORT"
      ]
     },
     "execution_count": 172,
     "metadata": {},
     "output_type": "execute_result"
    }
   ],
   "source": [
    "transposed_annotations[:2]"
   ]
  },
  {
   "cell_type": "code",
   "execution_count": 173,
   "id": "9931b46f",
   "metadata": {},
   "outputs": [],
   "source": [
    "discussion_topic_annotations = transposed_annotations[transposed_annotations[\"63d3fd1b0a21df494a093c51\"].str.contains('discussion').fillna(False)]"
   ]
  },
  {
   "cell_type": "code",
   "execution_count": 174,
   "id": "a7e8f0bf",
   "metadata": {},
   "outputs": [
    {
     "data": {
      "text/html": [
       "<div>\n",
       "<style scoped>\n",
       "    .dataframe tbody tr th:only-of-type {\n",
       "        vertical-align: middle;\n",
       "    }\n",
       "\n",
       "    .dataframe tbody tr th {\n",
       "        vertical-align: top;\n",
       "    }\n",
       "\n",
       "    .dataframe thead th {\n",
       "        text-align: right;\n",
       "    }\n",
       "</style>\n",
       "<table border=\"1\" class=\"dataframe\">\n",
       "  <thead>\n",
       "    <tr style=\"text-align: right;\">\n",
       "      <th>What is your Prolific ID?\n",
       "\n",
       "Please note that this response should auto</th>\n",
       "      <th>63d3fd1b0a21df494a093c51</th>\n",
       "      <th>5f60bbdf0c4792015f140d30</th>\n",
       "      <th>612f36ffdba08ffd6032560a</th>\n",
       "      <th>613f25c7b60b1f9c170a6db3</th>\n",
       "      <th>615a0198a1a2d449a781b8a5</th>\n",
       "    </tr>\n",
       "  </thead>\n",
       "  <tbody>\n",
       "    <tr>\n",
       "      <th>3495845393</th>\n",
       "      <td>No, it is not a discussion topic</td>\n",
       "      <td>Yes, it is a discussion topic</td>\n",
       "      <td>Yes, it is a discussion topic</td>\n",
       "      <td>Yes, it is a discussion topic</td>\n",
       "      <td>Yes, it is a discussion topic</td>\n",
       "    </tr>\n",
       "  </tbody>\n",
       "</table>\n",
       "</div>"
      ],
      "text/plain": [
       "What is your Prolific ID?\n",
       "\n",
       "Please note that this response should auto          63d3fd1b0a21df494a093c51       5f60bbdf0c4792015f140d30       612f36ffdba08ffd6032560a       613f25c7b60b1f9c170a6db3       615a0198a1a2d449a781b8a5\n",
       "3495845393                                                             No, it is not a discussion topic  Yes, it is a discussion topic  Yes, it is a discussion topic  Yes, it is a discussion topic  Yes, it is a discussion topic"
      ]
     },
     "execution_count": 174,
     "metadata": {},
     "output_type": "execute_result"
    }
   ],
   "source": [
    "discussion_topic_annotations[:1]"
   ]
  },
  {
   "cell_type": "code",
   "execution_count": 175,
   "id": "8b00e784",
   "metadata": {},
   "outputs": [
    {
     "data": {
      "text/plain": [
       "102"
      ]
     },
     "execution_count": 175,
     "metadata": {},
     "output_type": "execute_result"
    }
   ],
   "source": [
    "len(discussion_topic_annotations)"
   ]
  },
  {
   "cell_type": "code",
   "execution_count": 176,
   "id": "3d911d81",
   "metadata": {},
   "outputs": [],
   "source": [
    "discussion_topic_annotations = discussion_topic_annotations.replace(\"No, it is not a discussion topic\", 0)\n",
    "discussion_topic_annotations = discussion_topic_annotations.replace(\"Yes, it is a discussion topic\", 1)"
   ]
  },
  {
   "cell_type": "code",
   "execution_count": 212,
   "id": "372051b4",
   "metadata": {},
   "outputs": [
    {
     "data": {
      "text/html": [
       "<div>\n",
       "<style scoped>\n",
       "    .dataframe tbody tr th:only-of-type {\n",
       "        vertical-align: middle;\n",
       "    }\n",
       "\n",
       "    .dataframe tbody tr th {\n",
       "        vertical-align: top;\n",
       "    }\n",
       "\n",
       "    .dataframe thead th {\n",
       "        text-align: right;\n",
       "    }\n",
       "</style>\n",
       "<table border=\"1\" class=\"dataframe\">\n",
       "  <thead>\n",
       "    <tr style=\"text-align: right;\">\n",
       "      <th>What is your Prolific ID?\n",
       "\n",
       "Please note that this response should auto</th>\n",
       "      <th>63d3fd1b0a21df494a093c51</th>\n",
       "      <th>5f60bbdf0c4792015f140d30</th>\n",
       "      <th>612f36ffdba08ffd6032560a</th>\n",
       "      <th>613f25c7b60b1f9c170a6db3</th>\n",
       "      <th>615a0198a1a2d449a781b8a5</th>\n",
       "    </tr>\n",
       "  </thead>\n",
       "  <tbody>\n",
       "    <tr>\n",
       "      <th>3495845393</th>\n",
       "      <td>0</td>\n",
       "      <td>1</td>\n",
       "      <td>1</td>\n",
       "      <td>1</td>\n",
       "      <td>1</td>\n",
       "    </tr>\n",
       "    <tr>\n",
       "      <th>3495845394</th>\n",
       "      <td>1</td>\n",
       "      <td>1</td>\n",
       "      <td>1</td>\n",
       "      <td>1</td>\n",
       "      <td>1</td>\n",
       "    </tr>\n",
       "    <tr>\n",
       "      <th>3495845395</th>\n",
       "      <td>1</td>\n",
       "      <td>0</td>\n",
       "      <td>0</td>\n",
       "      <td>0</td>\n",
       "      <td>1</td>\n",
       "    </tr>\n",
       "    <tr>\n",
       "      <th>3495845399</th>\n",
       "      <td>0</td>\n",
       "      <td>0</td>\n",
       "      <td>0</td>\n",
       "      <td>0</td>\n",
       "      <td>1</td>\n",
       "    </tr>\n",
       "    <tr>\n",
       "      <th>3495845400</th>\n",
       "      <td>1</td>\n",
       "      <td>1</td>\n",
       "      <td>1</td>\n",
       "      <td>0</td>\n",
       "      <td>1</td>\n",
       "    </tr>\n",
       "    <tr>\n",
       "      <th>3495845401</th>\n",
       "      <td>1</td>\n",
       "      <td>0</td>\n",
       "      <td>1</td>\n",
       "      <td>1</td>\n",
       "      <td>1</td>\n",
       "    </tr>\n",
       "    <tr>\n",
       "      <th>3495845402</th>\n",
       "      <td>0</td>\n",
       "      <td>0</td>\n",
       "      <td>1</td>\n",
       "      <td>1</td>\n",
       "      <td>0</td>\n",
       "    </tr>\n",
       "    <tr>\n",
       "      <th>99</th>\n",
       "      <td>1</td>\n",
       "      <td>1</td>\n",
       "      <td>1</td>\n",
       "      <td>1</td>\n",
       "      <td>1</td>\n",
       "    </tr>\n",
       "    <tr>\n",
       "      <th>101</th>\n",
       "      <td>0</td>\n",
       "      <td>0</td>\n",
       "      <td>0</td>\n",
       "      <td>0</td>\n",
       "      <td>0</td>\n",
       "    </tr>\n",
       "    <tr>\n",
       "      <th>3492674527</th>\n",
       "      <td>1</td>\n",
       "      <td>1</td>\n",
       "      <td>1</td>\n",
       "      <td>1</td>\n",
       "      <td>1</td>\n",
       "    </tr>\n",
       "    <tr>\n",
       "      <th>3492674528</th>\n",
       "      <td>0</td>\n",
       "      <td>0</td>\n",
       "      <td>0</td>\n",
       "      <td>1</td>\n",
       "      <td>1</td>\n",
       "    </tr>\n",
       "    <tr>\n",
       "      <th>3492674530</th>\n",
       "      <td>0</td>\n",
       "      <td>0</td>\n",
       "      <td>0</td>\n",
       "      <td>0</td>\n",
       "      <td>1</td>\n",
       "    </tr>\n",
       "    <tr>\n",
       "      <th>3492674531</th>\n",
       "      <td>1</td>\n",
       "      <td>0</td>\n",
       "      <td>1</td>\n",
       "      <td>1</td>\n",
       "      <td>1</td>\n",
       "    </tr>\n",
       "    <tr>\n",
       "      <th>3492674532</th>\n",
       "      <td>1</td>\n",
       "      <td>1</td>\n",
       "      <td>1</td>\n",
       "      <td>1</td>\n",
       "      <td>1</td>\n",
       "    </tr>\n",
       "    <tr>\n",
       "      <th>3492674533</th>\n",
       "      <td>1</td>\n",
       "      <td>1</td>\n",
       "      <td>1</td>\n",
       "      <td>1</td>\n",
       "      <td>1</td>\n",
       "    </tr>\n",
       "    <tr>\n",
       "      <th>3492674534</th>\n",
       "      <td>1</td>\n",
       "      <td>0</td>\n",
       "      <td>1</td>\n",
       "      <td>1</td>\n",
       "      <td>1</td>\n",
       "    </tr>\n",
       "    <tr>\n",
       "      <th>3492674535</th>\n",
       "      <td>1</td>\n",
       "      <td>0</td>\n",
       "      <td>1</td>\n",
       "      <td>1</td>\n",
       "      <td>1</td>\n",
       "    </tr>\n",
       "    <tr>\n",
       "      <th>3495845412</th>\n",
       "      <td>1</td>\n",
       "      <td>1</td>\n",
       "      <td>1</td>\n",
       "      <td>1</td>\n",
       "      <td>1</td>\n",
       "    </tr>\n",
       "    <tr>\n",
       "      <th>'3492674527</th>\n",
       "      <td>1</td>\n",
       "      <td>1</td>\n",
       "      <td>1</td>\n",
       "      <td>1</td>\n",
       "      <td>1</td>\n",
       "    </tr>\n",
       "    <tr>\n",
       "      <th>3492674537</th>\n",
       "      <td>0</td>\n",
       "      <td>0</td>\n",
       "      <td>1</td>\n",
       "      <td>1</td>\n",
       "      <td>1</td>\n",
       "    </tr>\n",
       "    <tr>\n",
       "      <th>3492674538</th>\n",
       "      <td>0</td>\n",
       "      <td>0</td>\n",
       "      <td>0</td>\n",
       "      <td>1</td>\n",
       "      <td>1</td>\n",
       "    </tr>\n",
       "    <tr>\n",
       "      <th>3492674539</th>\n",
       "      <td>1</td>\n",
       "      <td>1</td>\n",
       "      <td>1</td>\n",
       "      <td>1</td>\n",
       "      <td>1</td>\n",
       "    </tr>\n",
       "    <tr>\n",
       "      <th>3492674540</th>\n",
       "      <td>1</td>\n",
       "      <td>1</td>\n",
       "      <td>1</td>\n",
       "      <td>1</td>\n",
       "      <td>1</td>\n",
       "    </tr>\n",
       "    <tr>\n",
       "      <th>3492674541</th>\n",
       "      <td>1</td>\n",
       "      <td>1</td>\n",
       "      <td>1</td>\n",
       "      <td>1</td>\n",
       "      <td>1</td>\n",
       "    </tr>\n",
       "    <tr>\n",
       "      <th>3492674542</th>\n",
       "      <td>1</td>\n",
       "      <td>1</td>\n",
       "      <td>1</td>\n",
       "      <td>1</td>\n",
       "      <td>1</td>\n",
       "    </tr>\n",
       "    <tr>\n",
       "      <th>3492674543</th>\n",
       "      <td>0</td>\n",
       "      <td>0</td>\n",
       "      <td>0</td>\n",
       "      <td>1</td>\n",
       "      <td>1</td>\n",
       "    </tr>\n",
       "    <tr>\n",
       "      <th>3492674544</th>\n",
       "      <td>0</td>\n",
       "      <td>1</td>\n",
       "      <td>1</td>\n",
       "      <td>1</td>\n",
       "      <td>1</td>\n",
       "    </tr>\n",
       "    <tr>\n",
       "      <th>3492674545</th>\n",
       "      <td>1</td>\n",
       "      <td>1</td>\n",
       "      <td>1</td>\n",
       "      <td>1</td>\n",
       "      <td>1</td>\n",
       "    </tr>\n",
       "    <tr>\n",
       "      <th>3492674546</th>\n",
       "      <td>0</td>\n",
       "      <td>0</td>\n",
       "      <td>0</td>\n",
       "      <td>0</td>\n",
       "      <td>1</td>\n",
       "    </tr>\n",
       "    <tr>\n",
       "      <th>3492674549</th>\n",
       "      <td>1</td>\n",
       "      <td>1</td>\n",
       "      <td>1</td>\n",
       "      <td>1</td>\n",
       "      <td>1</td>\n",
       "    </tr>\n",
       "    <tr>\n",
       "      <th>3492674550</th>\n",
       "      <td>1</td>\n",
       "      <td>1</td>\n",
       "      <td>1</td>\n",
       "      <td>1</td>\n",
       "      <td>1</td>\n",
       "    </tr>\n",
       "    <tr>\n",
       "      <th>3492674551</th>\n",
       "      <td>1</td>\n",
       "      <td>1</td>\n",
       "      <td>1</td>\n",
       "      <td>1</td>\n",
       "      <td>1</td>\n",
       "    </tr>\n",
       "    <tr>\n",
       "      <th>3492674552</th>\n",
       "      <td>1</td>\n",
       "      <td>1</td>\n",
       "      <td>1</td>\n",
       "      <td>1</td>\n",
       "      <td>1</td>\n",
       "    </tr>\n",
       "    <tr>\n",
       "      <th>3492674553</th>\n",
       "      <td>0</td>\n",
       "      <td>0</td>\n",
       "      <td>1</td>\n",
       "      <td>1</td>\n",
       "      <td>1</td>\n",
       "    </tr>\n",
       "    <tr>\n",
       "      <th>3492674554</th>\n",
       "      <td>1</td>\n",
       "      <td>1</td>\n",
       "      <td>1</td>\n",
       "      <td>1</td>\n",
       "      <td>1</td>\n",
       "    </tr>\n",
       "    <tr>\n",
       "      <th>3492674555</th>\n",
       "      <td>1</td>\n",
       "      <td>1</td>\n",
       "      <td>0</td>\n",
       "      <td>1</td>\n",
       "      <td>1</td>\n",
       "    </tr>\n",
       "    <tr>\n",
       "      <th>3492674557</th>\n",
       "      <td>1</td>\n",
       "      <td>1</td>\n",
       "      <td>1</td>\n",
       "      <td>1</td>\n",
       "      <td>1</td>\n",
       "    </tr>\n",
       "    <tr>\n",
       "      <th>3492674559</th>\n",
       "      <td>0</td>\n",
       "      <td>0</td>\n",
       "      <td>0</td>\n",
       "      <td>0</td>\n",
       "      <td>1</td>\n",
       "    </tr>\n",
       "    <tr>\n",
       "      <th>3492674560</th>\n",
       "      <td>0</td>\n",
       "      <td>0</td>\n",
       "      <td>0</td>\n",
       "      <td>0</td>\n",
       "      <td>0</td>\n",
       "    </tr>\n",
       "    <tr>\n",
       "      <th>34958454123495845404</th>\n",
       "      <td>0</td>\n",
       "      <td>0</td>\n",
       "      <td>0</td>\n",
       "      <td>1</td>\n",
       "      <td>1</td>\n",
       "    </tr>\n",
       "    <tr>\n",
       "      <th>3492674561</th>\n",
       "      <td>1</td>\n",
       "      <td>1</td>\n",
       "      <td>1</td>\n",
       "      <td>1</td>\n",
       "      <td>1</td>\n",
       "    </tr>\n",
       "    <tr>\n",
       "      <th>'3492674556</th>\n",
       "      <td>1</td>\n",
       "      <td>1</td>\n",
       "      <td>1</td>\n",
       "      <td>1</td>\n",
       "      <td>1</td>\n",
       "    </tr>\n",
       "    <tr>\n",
       "      <th>3492674562</th>\n",
       "      <td>1</td>\n",
       "      <td>1</td>\n",
       "      <td>1</td>\n",
       "      <td>1</td>\n",
       "      <td>1</td>\n",
       "    </tr>\n",
       "    <tr>\n",
       "      <th>3492674563</th>\n",
       "      <td>0</td>\n",
       "      <td>0</td>\n",
       "      <td>1</td>\n",
       "      <td>1</td>\n",
       "      <td>1</td>\n",
       "    </tr>\n",
       "    <tr>\n",
       "      <th>3492674564</th>\n",
       "      <td>1</td>\n",
       "      <td>1</td>\n",
       "      <td>1</td>\n",
       "      <td>1</td>\n",
       "      <td>1</td>\n",
       "    </tr>\n",
       "    <tr>\n",
       "      <th>3492674565</th>\n",
       "      <td>1</td>\n",
       "      <td>1</td>\n",
       "      <td>1</td>\n",
       "      <td>1</td>\n",
       "      <td>1</td>\n",
       "    </tr>\n",
       "    <tr>\n",
       "      <th>3492674566</th>\n",
       "      <td>1</td>\n",
       "      <td>1</td>\n",
       "      <td>1</td>\n",
       "      <td>1</td>\n",
       "      <td>1</td>\n",
       "    </tr>\n",
       "    <tr>\n",
       "      <th>3492674567</th>\n",
       "      <td>0</td>\n",
       "      <td>1</td>\n",
       "      <td>1</td>\n",
       "      <td>1</td>\n",
       "      <td>1</td>\n",
       "    </tr>\n",
       "    <tr>\n",
       "      <th>3492674568</th>\n",
       "      <td>1</td>\n",
       "      <td>1</td>\n",
       "      <td>1</td>\n",
       "      <td>1</td>\n",
       "      <td>1</td>\n",
       "    </tr>\n",
       "    <tr>\n",
       "      <th>3492674569</th>\n",
       "      <td>1</td>\n",
       "      <td>1</td>\n",
       "      <td>1</td>\n",
       "      <td>1</td>\n",
       "      <td>1</td>\n",
       "    </tr>\n",
       "    <tr>\n",
       "      <th>3492674570</th>\n",
       "      <td>1</td>\n",
       "      <td>1</td>\n",
       "      <td>1</td>\n",
       "      <td>1</td>\n",
       "      <td>1</td>\n",
       "    </tr>\n",
       "    <tr>\n",
       "      <th>3492674572</th>\n",
       "      <td>0</td>\n",
       "      <td>0</td>\n",
       "      <td>0</td>\n",
       "      <td>0</td>\n",
       "      <td>0</td>\n",
       "    </tr>\n",
       "    <tr>\n",
       "      <th>3492674573</th>\n",
       "      <td>0</td>\n",
       "      <td>0</td>\n",
       "      <td>0</td>\n",
       "      <td>0</td>\n",
       "      <td>1</td>\n",
       "    </tr>\n",
       "    <tr>\n",
       "      <th>3492674574</th>\n",
       "      <td>1</td>\n",
       "      <td>1</td>\n",
       "      <td>1</td>\n",
       "      <td>1</td>\n",
       "      <td>1</td>\n",
       "    </tr>\n",
       "    <tr>\n",
       "      <th>3495845409</th>\n",
       "      <td>0</td>\n",
       "      <td>0</td>\n",
       "      <td>1</td>\n",
       "      <td>1</td>\n",
       "      <td>1</td>\n",
       "    </tr>\n",
       "    <tr>\n",
       "      <th>3492674576</th>\n",
       "      <td>1</td>\n",
       "      <td>1</td>\n",
       "      <td>1</td>\n",
       "      <td>1</td>\n",
       "      <td>1</td>\n",
       "    </tr>\n",
       "    <tr>\n",
       "      <th>3492674577</th>\n",
       "      <td>1</td>\n",
       "      <td>1</td>\n",
       "      <td>1</td>\n",
       "      <td>1</td>\n",
       "      <td>1</td>\n",
       "    </tr>\n",
       "    <tr>\n",
       "      <th>3492674578</th>\n",
       "      <td>1</td>\n",
       "      <td>1</td>\n",
       "      <td>1</td>\n",
       "      <td>1</td>\n",
       "      <td>1</td>\n",
       "    </tr>\n",
       "    <tr>\n",
       "      <th>3492674579</th>\n",
       "      <td>1</td>\n",
       "      <td>1</td>\n",
       "      <td>1</td>\n",
       "      <td>1</td>\n",
       "      <td>1</td>\n",
       "    </tr>\n",
       "    <tr>\n",
       "      <th>3492674580</th>\n",
       "      <td>1</td>\n",
       "      <td>1</td>\n",
       "      <td>1</td>\n",
       "      <td>1</td>\n",
       "      <td>1</td>\n",
       "    </tr>\n",
       "    <tr>\n",
       "      <th>3492674581</th>\n",
       "      <td>1</td>\n",
       "      <td>1</td>\n",
       "      <td>1</td>\n",
       "      <td>1</td>\n",
       "      <td>1</td>\n",
       "    </tr>\n",
       "    <tr>\n",
       "      <th>3492674582</th>\n",
       "      <td>0</td>\n",
       "      <td>1</td>\n",
       "      <td>0</td>\n",
       "      <td>0</td>\n",
       "      <td>1</td>\n",
       "    </tr>\n",
       "    <tr>\n",
       "      <th>3492674584</th>\n",
       "      <td>1</td>\n",
       "      <td>1</td>\n",
       "      <td>1</td>\n",
       "      <td>1</td>\n",
       "      <td>1</td>\n",
       "    </tr>\n",
       "    <tr>\n",
       "      <th>3492674585</th>\n",
       "      <td>0</td>\n",
       "      <td>0</td>\n",
       "      <td>0</td>\n",
       "      <td>0</td>\n",
       "      <td>1</td>\n",
       "    </tr>\n",
       "    <tr>\n",
       "      <th>3492674586</th>\n",
       "      <td>0</td>\n",
       "      <td>1</td>\n",
       "      <td>0</td>\n",
       "      <td>1</td>\n",
       "      <td>1</td>\n",
       "    </tr>\n",
       "    <tr>\n",
       "      <th>3492674587</th>\n",
       "      <td>0</td>\n",
       "      <td>0</td>\n",
       "      <td>1</td>\n",
       "      <td>1</td>\n",
       "      <td>1</td>\n",
       "    </tr>\n",
       "    <tr>\n",
       "      <th>3492674588</th>\n",
       "      <td>1</td>\n",
       "      <td>1</td>\n",
       "      <td>1</td>\n",
       "      <td>1</td>\n",
       "      <td>1</td>\n",
       "    </tr>\n",
       "    <tr>\n",
       "      <th>3492674590</th>\n",
       "      <td>0</td>\n",
       "      <td>0</td>\n",
       "      <td>1</td>\n",
       "      <td>1</td>\n",
       "      <td>1</td>\n",
       "    </tr>\n",
       "    <tr>\n",
       "      <th>3492674591</th>\n",
       "      <td>0</td>\n",
       "      <td>1</td>\n",
       "      <td>1</td>\n",
       "      <td>1</td>\n",
       "      <td>1</td>\n",
       "    </tr>\n",
       "    <tr>\n",
       "      <th>3492674592</th>\n",
       "      <td>0</td>\n",
       "      <td>1</td>\n",
       "      <td>1</td>\n",
       "      <td>1</td>\n",
       "      <td>1</td>\n",
       "    </tr>\n",
       "    <tr>\n",
       "      <th>3492674594</th>\n",
       "      <td>1</td>\n",
       "      <td>1</td>\n",
       "      <td>1</td>\n",
       "      <td>1</td>\n",
       "      <td>1</td>\n",
       "    </tr>\n",
       "    <tr>\n",
       "      <th>3492674595</th>\n",
       "      <td>1</td>\n",
       "      <td>1</td>\n",
       "      <td>1</td>\n",
       "      <td>1</td>\n",
       "      <td>1</td>\n",
       "    </tr>\n",
       "    <tr>\n",
       "      <th>3492674596</th>\n",
       "      <td>1</td>\n",
       "      <td>1</td>\n",
       "      <td>1</td>\n",
       "      <td>1</td>\n",
       "      <td>1</td>\n",
       "    </tr>\n",
       "    <tr>\n",
       "      <th>3492674597</th>\n",
       "      <td>0</td>\n",
       "      <td>0</td>\n",
       "      <td>1</td>\n",
       "      <td>1</td>\n",
       "      <td>1</td>\n",
       "    </tr>\n",
       "    <tr>\n",
       "      <th>3492674598</th>\n",
       "      <td>1</td>\n",
       "      <td>1</td>\n",
       "      <td>1</td>\n",
       "      <td>1</td>\n",
       "      <td>1</td>\n",
       "    </tr>\n",
       "    <tr>\n",
       "      <th>3492674599</th>\n",
       "      <td>0</td>\n",
       "      <td>0</td>\n",
       "      <td>0</td>\n",
       "      <td>0</td>\n",
       "      <td>0</td>\n",
       "    </tr>\n",
       "    <tr>\n",
       "      <th>34958454123495845408</th>\n",
       "      <td>0</td>\n",
       "      <td>0</td>\n",
       "      <td>1</td>\n",
       "      <td>1</td>\n",
       "      <td>0</td>\n",
       "    </tr>\n",
       "    <tr>\n",
       "      <th>3492674600</th>\n",
       "      <td>1</td>\n",
       "      <td>1</td>\n",
       "      <td>1</td>\n",
       "      <td>1</td>\n",
       "      <td>1</td>\n",
       "    </tr>\n",
       "    <tr>\n",
       "      <th>3492674601</th>\n",
       "      <td>0</td>\n",
       "      <td>1</td>\n",
       "      <td>0</td>\n",
       "      <td>1</td>\n",
       "      <td>1</td>\n",
       "    </tr>\n",
       "    <tr>\n",
       "      <th>3492674602</th>\n",
       "      <td>1</td>\n",
       "      <td>1</td>\n",
       "      <td>1</td>\n",
       "      <td>1</td>\n",
       "      <td>1</td>\n",
       "    </tr>\n",
       "    <tr>\n",
       "      <th>3492674603</th>\n",
       "      <td>1</td>\n",
       "      <td>1</td>\n",
       "      <td>1</td>\n",
       "      <td>1</td>\n",
       "      <td>1</td>\n",
       "    </tr>\n",
       "    <tr>\n",
       "      <th>3492674604</th>\n",
       "      <td>1</td>\n",
       "      <td>1</td>\n",
       "      <td>1</td>\n",
       "      <td>1</td>\n",
       "      <td>1</td>\n",
       "    </tr>\n",
       "    <tr>\n",
       "      <th>3492674605</th>\n",
       "      <td>1</td>\n",
       "      <td>1</td>\n",
       "      <td>1</td>\n",
       "      <td>1</td>\n",
       "      <td>1</td>\n",
       "    </tr>\n",
       "    <tr>\n",
       "      <th>3492674606</th>\n",
       "      <td>1</td>\n",
       "      <td>1</td>\n",
       "      <td>1</td>\n",
       "      <td>1</td>\n",
       "      <td>1</td>\n",
       "    </tr>\n",
       "    <tr>\n",
       "      <th>3492674607</th>\n",
       "      <td>1</td>\n",
       "      <td>1</td>\n",
       "      <td>1</td>\n",
       "      <td>1</td>\n",
       "      <td>1</td>\n",
       "    </tr>\n",
       "    <tr>\n",
       "      <th>3492674608</th>\n",
       "      <td>1</td>\n",
       "      <td>1</td>\n",
       "      <td>1</td>\n",
       "      <td>1</td>\n",
       "      <td>1</td>\n",
       "    </tr>\n",
       "    <tr>\n",
       "      <th>3492674609</th>\n",
       "      <td>1</td>\n",
       "      <td>1</td>\n",
       "      <td>1</td>\n",
       "      <td>1</td>\n",
       "      <td>1</td>\n",
       "    </tr>\n",
       "    <tr>\n",
       "      <th>3492674610</th>\n",
       "      <td>1</td>\n",
       "      <td>1</td>\n",
       "      <td>1</td>\n",
       "      <td>1</td>\n",
       "      <td>1</td>\n",
       "    </tr>\n",
       "    <tr>\n",
       "      <th>3492674613</th>\n",
       "      <td>1</td>\n",
       "      <td>1</td>\n",
       "      <td>1</td>\n",
       "      <td>1</td>\n",
       "      <td>1</td>\n",
       "    </tr>\n",
       "    <tr>\n",
       "      <th>3492674614</th>\n",
       "      <td>1</td>\n",
       "      <td>1</td>\n",
       "      <td>1</td>\n",
       "      <td>1</td>\n",
       "      <td>1</td>\n",
       "    </tr>\n",
       "    <tr>\n",
       "      <th>3492674615</th>\n",
       "      <td>0</td>\n",
       "      <td>1</td>\n",
       "      <td>1</td>\n",
       "      <td>1</td>\n",
       "      <td>1</td>\n",
       "    </tr>\n",
       "    <tr>\n",
       "      <th>3492674616</th>\n",
       "      <td>1</td>\n",
       "      <td>1</td>\n",
       "      <td>1</td>\n",
       "      <td>1</td>\n",
       "      <td>1</td>\n",
       "    </tr>\n",
       "    <tr>\n",
       "      <th>3492674617</th>\n",
       "      <td>1</td>\n",
       "      <td>1</td>\n",
       "      <td>1</td>\n",
       "      <td>1</td>\n",
       "      <td>1</td>\n",
       "    </tr>\n",
       "    <tr>\n",
       "      <th>3492674618</th>\n",
       "      <td>1</td>\n",
       "      <td>1</td>\n",
       "      <td>1</td>\n",
       "      <td>1</td>\n",
       "      <td>1</td>\n",
       "    </tr>\n",
       "    <tr>\n",
       "      <th>3492674619</th>\n",
       "      <td>1</td>\n",
       "      <td>1</td>\n",
       "      <td>1</td>\n",
       "      <td>1</td>\n",
       "      <td>1</td>\n",
       "    </tr>\n",
       "    <tr>\n",
       "      <th>3492674620</th>\n",
       "      <td>0</td>\n",
       "      <td>0</td>\n",
       "      <td>0</td>\n",
       "      <td>1</td>\n",
       "      <td>0</td>\n",
       "    </tr>\n",
       "    <tr>\n",
       "      <th>3492674621</th>\n",
       "      <td>1</td>\n",
       "      <td>1</td>\n",
       "      <td>1</td>\n",
       "      <td>1</td>\n",
       "      <td>1</td>\n",
       "    </tr>\n",
       "    <tr>\n",
       "      <th>3492674622</th>\n",
       "      <td>0</td>\n",
       "      <td>0</td>\n",
       "      <td>1</td>\n",
       "      <td>1</td>\n",
       "      <td>1</td>\n",
       "    </tr>\n",
       "    <tr>\n",
       "      <th>3492674623</th>\n",
       "      <td>1</td>\n",
       "      <td>1</td>\n",
       "      <td>1</td>\n",
       "      <td>1</td>\n",
       "      <td>1</td>\n",
       "    </tr>\n",
       "    <tr>\n",
       "      <th>3492674624</th>\n",
       "      <td>1</td>\n",
       "      <td>1</td>\n",
       "      <td>1</td>\n",
       "      <td>1</td>\n",
       "      <td>1</td>\n",
       "    </tr>\n",
       "    <tr>\n",
       "      <th>3492674625</th>\n",
       "      <td>1</td>\n",
       "      <td>1</td>\n",
       "      <td>1</td>\n",
       "      <td>1</td>\n",
       "      <td>1</td>\n",
       "    </tr>\n",
       "    <tr>\n",
       "      <th>3492674626</th>\n",
       "      <td>0</td>\n",
       "      <td>0</td>\n",
       "      <td>0</td>\n",
       "      <td>0</td>\n",
       "      <td>0</td>\n",
       "    </tr>\n",
       "  </tbody>\n",
       "</table>\n",
       "</div>"
      ],
      "text/plain": [
       "What is your Prolific ID?\n",
       "\n",
       "Please note that this response should auto  63d3fd1b0a21df494a093c51  5f60bbdf0c4792015f140d30  612f36ffdba08ffd6032560a  613f25c7b60b1f9c170a6db3  615a0198a1a2d449a781b8a5\n",
       "3495845393                                                                                    0                         1                         1                         1                         1\n",
       "3495845394                                                                                    1                         1                         1                         1                         1\n",
       "3495845395                                                                                    1                         0                         0                         0                         1\n",
       "3495845399                                                                                    0                         0                         0                         0                         1\n",
       "3495845400                                                                                    1                         1                         1                         0                         1\n",
       "3495845401                                                                                    1                         0                         1                         1                         1\n",
       "3495845402                                                                                    0                         0                         1                         1                         0\n",
       "99                                                                                            1                         1                         1                         1                         1\n",
       "101                                                                                           0                         0                         0                         0                         0\n",
       "3492674527                                                                                    1                         1                         1                         1                         1\n",
       "3492674528                                                                                    0                         0                         0                         1                         1\n",
       "3492674530                                                                                    0                         0                         0                         0                         1\n",
       "3492674531                                                                                    1                         0                         1                         1                         1\n",
       "3492674532                                                                                    1                         1                         1                         1                         1\n",
       "3492674533                                                                                    1                         1                         1                         1                         1\n",
       "3492674534                                                                                    1                         0                         1                         1                         1\n",
       "3492674535                                                                                    1                         0                         1                         1                         1\n",
       "3495845412                                                                                    1                         1                         1                         1                         1\n",
       "'3492674527                                                                                   1                         1                         1                         1                         1\n",
       "3492674537                                                                                    0                         0                         1                         1                         1\n",
       "3492674538                                                                                    0                         0                         0                         1                         1\n",
       "3492674539                                                                                    1                         1                         1                         1                         1\n",
       "3492674540                                                                                    1                         1                         1                         1                         1\n",
       "3492674541                                                                                    1                         1                         1                         1                         1\n",
       "3492674542                                                                                    1                         1                         1                         1                         1\n",
       "3492674543                                                                                    0                         0                         0                         1                         1\n",
       "3492674544                                                                                    0                         1                         1                         1                         1\n",
       "3492674545                                                                                    1                         1                         1                         1                         1\n",
       "3492674546                                                                                    0                         0                         0                         0                         1\n",
       "3492674549                                                                                    1                         1                         1                         1                         1\n",
       "3492674550                                                                                    1                         1                         1                         1                         1\n",
       "3492674551                                                                                    1                         1                         1                         1                         1\n",
       "3492674552                                                                                    1                         1                         1                         1                         1\n",
       "3492674553                                                                                    0                         0                         1                         1                         1\n",
       "3492674554                                                                                    1                         1                         1                         1                         1\n",
       "3492674555                                                                                    1                         1                         0                         1                         1\n",
       "3492674557                                                                                    1                         1                         1                         1                         1\n",
       "3492674559                                                                                    0                         0                         0                         0                         1\n",
       "3492674560                                                                                    0                         0                         0                         0                         0\n",
       "34958454123495845404                                                                          0                         0                         0                         1                         1\n",
       "3492674561                                                                                    1                         1                         1                         1                         1\n",
       "'3492674556                                                                                   1                         1                         1                         1                         1\n",
       "3492674562                                                                                    1                         1                         1                         1                         1\n",
       "3492674563                                                                                    0                         0                         1                         1                         1\n",
       "3492674564                                                                                    1                         1                         1                         1                         1\n",
       "3492674565                                                                                    1                         1                         1                         1                         1\n",
       "3492674566                                                                                    1                         1                         1                         1                         1\n",
       "3492674567                                                                                    0                         1                         1                         1                         1\n",
       "3492674568                                                                                    1                         1                         1                         1                         1\n",
       "3492674569                                                                                    1                         1                         1                         1                         1\n",
       "3492674570                                                                                    1                         1                         1                         1                         1\n",
       "3492674572                                                                                    0                         0                         0                         0                         0\n",
       "3492674573                                                                                    0                         0                         0                         0                         1\n",
       "3492674574                                                                                    1                         1                         1                         1                         1\n",
       "3495845409                                                                                    0                         0                         1                         1                         1\n",
       "3492674576                                                                                    1                         1                         1                         1                         1\n",
       "3492674577                                                                                    1                         1                         1                         1                         1\n",
       "3492674578                                                                                    1                         1                         1                         1                         1\n",
       "3492674579                                                                                    1                         1                         1                         1                         1\n",
       "3492674580                                                                                    1                         1                         1                         1                         1\n",
       "3492674581                                                                                    1                         1                         1                         1                         1\n",
       "3492674582                                                                                    0                         1                         0                         0                         1\n",
       "3492674584                                                                                    1                         1                         1                         1                         1\n",
       "3492674585                                                                                    0                         0                         0                         0                         1\n",
       "3492674586                                                                                    0                         1                         0                         1                         1\n",
       "3492674587                                                                                    0                         0                         1                         1                         1\n",
       "3492674588                                                                                    1                         1                         1                         1                         1\n",
       "3492674590                                                                                    0                         0                         1                         1                         1\n",
       "3492674591                                                                                    0                         1                         1                         1                         1\n",
       "3492674592                                                                                    0                         1                         1                         1                         1\n",
       "3492674594                                                                                    1                         1                         1                         1                         1\n",
       "3492674595                                                                                    1                         1                         1                         1                         1\n",
       "3492674596                                                                                    1                         1                         1                         1                         1\n",
       "3492674597                                                                                    0                         0                         1                         1                         1\n",
       "3492674598                                                                                    1                         1                         1                         1                         1\n",
       "3492674599                                                                                    0                         0                         0                         0                         0\n",
       "34958454123495845408                                                                          0                         0                         1                         1                         0\n",
       "3492674600                                                                                    1                         1                         1                         1                         1\n",
       "3492674601                                                                                    0                         1                         0                         1                         1\n",
       "3492674602                                                                                    1                         1                         1                         1                         1\n",
       "3492674603                                                                                    1                         1                         1                         1                         1\n",
       "3492674604                                                                                    1                         1                         1                         1                         1\n",
       "3492674605                                                                                    1                         1                         1                         1                         1\n",
       "3492674606                                                                                    1                         1                         1                         1                         1\n",
       "3492674607                                                                                    1                         1                         1                         1                         1\n",
       "3492674608                                                                                    1                         1                         1                         1                         1\n",
       "3492674609                                                                                    1                         1                         1                         1                         1\n",
       "3492674610                                                                                    1                         1                         1                         1                         1\n",
       "3492674613                                                                                    1                         1                         1                         1                         1\n",
       "3492674614                                                                                    1                         1                         1                         1                         1\n",
       "3492674615                                                                                    0                         1                         1                         1                         1\n",
       "3492674616                                                                                    1                         1                         1                         1                         1\n",
       "3492674617                                                                                    1                         1                         1                         1                         1\n",
       "3492674618                                                                                    1                         1                         1                         1                         1\n",
       "3492674619                                                                                    1                         1                         1                         1                         1\n",
       "3492674620                                                                                    0                         0                         0                         1                         0\n",
       "3492674621                                                                                    1                         1                         1                         1                         1\n",
       "3492674622                                                                                    0                         0                         1                         1                         1\n",
       "3492674623                                                                                    1                         1                         1                         1                         1\n",
       "3492674624                                                                                    1                         1                         1                         1                         1\n",
       "3492674625                                                                                    1                         1                         1                         1                         1\n",
       "3492674626                                                                                    0                         0                         0                         0                         0"
      ]
     },
     "execution_count": 212,
     "metadata": {},
     "output_type": "execute_result"
    }
   ],
   "source": [
    "discussion_topic_annotations"
   ]
  },
  {
   "cell_type": "code",
   "execution_count": 183,
   "id": "9d761aee",
   "metadata": {},
   "outputs": [
    {
     "data": {
      "text/plain": [
       "0.4632684344185411"
      ]
     },
     "execution_count": 183,
     "metadata": {},
     "output_type": "execute_result"
    }
   ],
   "source": [
    "from statsmodels.stats import inter_rater as irr\n",
    "irr.fleiss_kappa(irr.aggregate_raters(discussion_topic_annotations)[0], method='fleiss')"
   ]
  },
  {
   "cell_type": "code",
   "execution_count": 228,
   "id": "e902ae87",
   "metadata": {},
   "outputs": [
    {
     "ename": "ValueError",
     "evalue": "operands could not be broadcast together with shapes (102,2) (102,) ",
     "output_type": "error",
     "traceback": [
      "\u001b[0;31m---------------------------------------------------------------------------\u001b[0m",
      "\u001b[0;31mValueError\u001b[0m                                Traceback (most recent call last)",
      "\u001b[0;32m<ipython-input-228-499a2e41dfc4>\u001b[0m in \u001b[0;36m<module>\u001b[0;34m\u001b[0m\n\u001b[1;32m      1\u001b[0m \u001b[0mdata\u001b[0m \u001b[0;34m=\u001b[0m \u001b[0mirr\u001b[0m\u001b[0;34m.\u001b[0m\u001b[0maggregate_raters\u001b[0m\u001b[0;34m(\u001b[0m\u001b[0mdiscussion_topic_annotations\u001b[0m\u001b[0;34m)\u001b[0m\u001b[0;34m[\u001b[0m\u001b[0;36m0\u001b[0m\u001b[0;34m]\u001b[0m\u001b[0;34m\u001b[0m\u001b[0;34m\u001b[0m\u001b[0m\n\u001b[0;32m----> 2\u001b[0;31m \u001b[0mpercentages\u001b[0m \u001b[0;34m=\u001b[0m \u001b[0mdata\u001b[0m\u001b[0;34m/\u001b[0m\u001b[0mdata\u001b[0m\u001b[0;34m.\u001b[0m\u001b[0msum\u001b[0m\u001b[0;34m(\u001b[0m\u001b[0maxis\u001b[0m\u001b[0;34m=\u001b[0m\u001b[0;36m1\u001b[0m\u001b[0;34m)\u001b[0m \u001b[0;34m*\u001b[0m \u001b[0;36m100\u001b[0m\u001b[0;34m\u001b[0m\u001b[0;34m\u001b[0m\u001b[0m\n\u001b[0m\u001b[1;32m      3\u001b[0m \u001b[0mpercentages\u001b[0m\u001b[0;34m\u001b[0m\u001b[0;34m\u001b[0m\u001b[0m\n",
      "\u001b[0;31mValueError\u001b[0m: operands could not be broadcast together with shapes (102,2) (102,) "
     ]
    }
   ],
   "source": [
    "data = irr.aggregate_raters(discussion_topic_annotations)[0]\n",
    "percentages = data/data.sum(axis=1) * 100\n",
    "percentages"
   ]
  },
  {
   "cell_type": "code",
   "execution_count": 255,
   "id": "5ba4ac40",
   "metadata": {},
   "outputs": [],
   "source": [
    "import numpy as np\n",
    "\n",
    "perc = irr.aggregate_raters(stance_annotations_no_test)[0]/.05\n",
    "\n",
    "all_perc = []\n",
    "\n",
    "for i in perc:\n",
    "    i = max(i)\n",
    "    all_perc = all_perc + [i]"
   ]
  },
  {
   "cell_type": "code",
   "execution_count": 262,
   "id": "b3e36fc4",
   "metadata": {},
   "outputs": [
    {
     "data": {
      "text/plain": [
       "60.0"
      ]
     },
     "execution_count": 262,
     "metadata": {},
     "output_type": "execute_result"
    }
   ],
   "source": [
    "import statistics \n",
    "\n",
    "statistics.mode(all_perc)"
   ]
  },
  {
   "cell_type": "code",
   "execution_count": 258,
   "id": "e3e01ab1",
   "metadata": {},
   "outputs": [
    {
     "data": {
      "text/plain": [
       "100.0"
      ]
     },
     "execution_count": 258,
     "metadata": {},
     "output_type": "execute_result"
    }
   ],
   "source": [
    "np.max(all_perc)"
   ]
  },
  {
   "cell_type": "code",
   "execution_count": 184,
   "id": "2c68a945",
   "metadata": {},
   "outputs": [],
   "source": [
    "test_questions = ['3495845393', '3495845394', '3495845395', '3495845399', '3495845400', '3495845401', '3495845402']"
   ]
  },
  {
   "cell_type": "code",
   "execution_count": 189,
   "id": "09a62dcd",
   "metadata": {},
   "outputs": [],
   "source": [
    "test_index = discussion_topic_annotations[:9].index.tolist()"
   ]
  },
  {
   "cell_type": "code",
   "execution_count": 190,
   "id": "0ad6987b",
   "metadata": {},
   "outputs": [],
   "source": [
    "discussion_topic_annotations_no_test = discussion_topic_annotations.drop(test_index)"
   ]
  },
  {
   "cell_type": "code",
   "execution_count": 193,
   "id": "6326537a",
   "metadata": {},
   "outputs": [
    {
     "data": {
      "text/plain": [
       "0.4671504965622613"
      ]
     },
     "execution_count": 193,
     "metadata": {},
     "output_type": "execute_result"
    }
   ],
   "source": [
    "irr.fleiss_kappa(irr.aggregate_raters(discussion_topic_annotations_no_test)[0], method='fleiss')"
   ]
  },
  {
   "cell_type": "markdown",
   "id": "f0208086",
   "metadata": {},
   "source": [
    "#### without last annotator"
   ]
  },
  {
   "cell_type": "code",
   "execution_count": 201,
   "id": "0f7820e9",
   "metadata": {},
   "outputs": [],
   "source": [
    "without_fast_annotator = discussion_topic_annotations_no_test.drop(['63d3fd1b0a21df494a093c51'], axis=1)"
   ]
  },
  {
   "cell_type": "code",
   "execution_count": 202,
   "id": "772f76a6",
   "metadata": {},
   "outputs": [
    {
     "data": {
      "text/plain": [
       "0.4435897435897434"
      ]
     },
     "execution_count": 202,
     "metadata": {},
     "output_type": "execute_result"
    }
   ],
   "source": [
    "irr.fleiss_kappa(irr.aggregate_raters(without_fast_annotator)[0], method='fleiss')"
   ]
  },
  {
   "cell_type": "markdown",
   "id": "eb6e567d",
   "metadata": {},
   "source": [
    "### stance annotations"
   ]
  },
  {
   "cell_type": "code",
   "execution_count": 194,
   "id": "db25010a",
   "metadata": {},
   "outputs": [],
   "source": [
    "stance_annotations = transposed_annotations[~transposed_annotations[\"63d3fd1b0a21df494a093c51\"].str.contains('discussion').fillna(False)]"
   ]
  },
  {
   "cell_type": "code",
   "execution_count": 198,
   "id": "56995577",
   "metadata": {},
   "outputs": [],
   "source": [
    "stance_annotations = stance_annotations.fillna(99)"
   ]
  },
  {
   "cell_type": "code",
   "execution_count": 13,
   "id": "efd4700e",
   "metadata": {},
   "outputs": [
    {
     "ename": "NameError",
     "evalue": "name 'stance_annotations' is not defined",
     "output_type": "error",
     "traceback": [
      "\u001b[0;31m---------------------------------------------------------------------------\u001b[0m",
      "\u001b[0;31mNameError\u001b[0m                                 Traceback (most recent call last)",
      "\u001b[0;32m<ipython-input-13-55369f1a4e69>\u001b[0m in \u001b[0;36m<module>\u001b[0;34m\u001b[0m\n\u001b[0;32m----> 1\u001b[0;31m \u001b[0mstance_annotations\u001b[0m\u001b[0;34m\u001b[0m\u001b[0;34m\u001b[0m\u001b[0m\n\u001b[0m",
      "\u001b[0;31mNameError\u001b[0m: name 'stance_annotations' is not defined"
     ]
    }
   ],
   "source": [
    "stance_annotations"
   ]
  },
  {
   "cell_type": "code",
   "execution_count": 196,
   "id": "5296a743",
   "metadata": {},
   "outputs": [],
   "source": [
    "stance_annotations = stance_annotations.replace(\"SUPPORT\", 1)\n",
    "stance_annotations = stance_annotations.replace(\"REJECT\", 2)\n",
    "stance_annotations = stance_annotations.replace(\"NEUTRAL\", 0)"
   ]
  },
  {
   "cell_type": "code",
   "execution_count": 206,
   "id": "fc5954f5",
   "metadata": {},
   "outputs": [],
   "source": [
    "stance_annotations = stance_annotations[:-1]"
   ]
  },
  {
   "cell_type": "code",
   "execution_count": 207,
   "id": "40bd7fe9",
   "metadata": {},
   "outputs": [
    {
     "data": {
      "text/plain": [
       "0.31632576608975804"
      ]
     },
     "execution_count": 207,
     "metadata": {},
     "output_type": "execute_result"
    }
   ],
   "source": [
    "irr.fleiss_kappa(irr.aggregate_raters(stance_annotations)[0], method='fleiss')"
   ]
  },
  {
   "cell_type": "code",
   "execution_count": 208,
   "id": "38bfac92",
   "metadata": {},
   "outputs": [],
   "source": [
    "stance_annotations_no_test = stance_annotations.drop(test_index)"
   ]
  },
  {
   "cell_type": "code",
   "execution_count": 219,
   "id": "f32ab54d",
   "metadata": {},
   "outputs": [
    {
     "data": {
      "text/plain": [
       "<bound method DataFrame.nunique of What is your Prolific ID?\n",
       "\n",
       "Please note that this response should auto 63d3fd1b0a21df494a093c51 5f60bbdf0c4792015f140d30 612f36ffdba08ffd6032560a 613f25c7b60b1f9c170a6db3 615a0198a1a2d449a781b8a5\n",
       "3492674527                                                                                   2                        1                        0                        2                        2>"
      ]
     },
     "execution_count": 219,
     "metadata": {},
     "output_type": "execute_result"
    }
   ],
   "source": [
    "stance_annotations_no_test[:1].nunique"
   ]
  },
  {
   "cell_type": "code",
   "execution_count": 209,
   "id": "6849bd61",
   "metadata": {},
   "outputs": [
    {
     "data": {
      "text/plain": [
       "0.2659670466644162"
      ]
     },
     "execution_count": 209,
     "metadata": {},
     "output_type": "execute_result"
    }
   ],
   "source": [
    "irr.fleiss_kappa(irr.aggregate_raters(stance_annotations_no_test)[0], method='fleiss')"
   ]
  },
  {
   "cell_type": "code",
   "execution_count": 210,
   "id": "0bd2e210",
   "metadata": {},
   "outputs": [],
   "source": [
    "without_fast_annotator = stance_annotations_no_test.drop(['63d3fd1b0a21df494a093c51'], axis=1)"
   ]
  },
  {
   "cell_type": "code",
   "execution_count": 211,
   "id": "cb807ae5",
   "metadata": {},
   "outputs": [
    {
     "data": {
      "text/plain": [
       "0.20825723842160332"
      ]
     },
     "execution_count": 211,
     "metadata": {},
     "output_type": "execute_result"
    }
   ],
   "source": [
    "irr.fleiss_kappa(irr.aggregate_raters(without_fast_annotator)[0], method='fleiss')"
   ]
  },
  {
   "cell_type": "code",
   "execution_count": 272,
   "id": "15b2d14b",
   "metadata": {},
   "outputs": [],
   "source": [
    "stance_annotations_no_test[\"mode\"] = stance_annotations_no_test.mode(axis=1)[0]"
   ]
  },
  {
   "cell_type": "code",
   "execution_count": 274,
   "id": "6c6a2a39",
   "metadata": {},
   "outputs": [
    {
     "name": "stdout",
     "output_type": "stream",
     "text": [
      "91\n"
     ]
    }
   ],
   "source": [
    "print(len(stance_annotations_no_test))"
   ]
  },
  {
   "cell_type": "code",
   "execution_count": 276,
   "id": "c3d188b8",
   "metadata": {},
   "outputs": [],
   "source": [
    "stance_annotations_arg = stance_annotations_no_test[stance_annotations_no_test[\"mode\"] != 99]"
   ]
  },
  {
   "cell_type": "code",
   "execution_count": 278,
   "id": "341f81ad",
   "metadata": {},
   "outputs": [
    {
     "name": "stdout",
     "output_type": "stream",
     "text": [
      "71\n"
     ]
    }
   ],
   "source": [
    "print(len(stance_annotations_arg))"
   ]
  },
  {
   "cell_type": "code",
   "execution_count": 281,
   "id": "ec6140cf",
   "metadata": {},
   "outputs": [
    {
     "data": {
      "text/plain": [
       "0    29\n",
       "2    21\n",
       "1    21\n",
       "Name: mode, dtype: int64"
      ]
     },
     "execution_count": 281,
     "metadata": {},
     "output_type": "execute_result"
    }
   ],
   "source": [
    "stance_annotations_arg[\"mode\"].value_counts()"
   ]
  },
  {
   "cell_type": "code",
   "execution_count": 282,
   "id": "789b910a",
   "metadata": {},
   "outputs": [],
   "source": [
    "stance_annotations = stance_annotations.replace(\"SUPPORT\", 1)\n",
    "stance_annotations = stance_annotations.replace(\"REJECT\", 2)\n",
    "stance_annotations = stance_annotations.replace(\"NEUTRAL\", 0)"
   ]
  },
  {
   "cell_type": "code",
   "execution_count": 318,
   "id": "fbd721c7",
   "metadata": {},
   "outputs": [],
   "source": [
    "nrs = stance_annotations_arg.index.str.strip().str.strip(\"'\")\n",
    "nrs = [int(n) for n in nrs]"
   ]
  },
  {
   "cell_type": "code",
   "execution_count": 324,
   "id": "7c1e95a7",
   "metadata": {},
   "outputs": [
    {
     "name": "stdout",
     "output_type": "stream",
     "text": [
      "71\n"
     ]
    }
   ],
   "source": [
    "print(len(nrs))"
   ]
  },
  {
   "cell_type": "code",
   "execution_count": 294,
   "id": "65714de3",
   "metadata": {},
   "outputs": [],
   "source": [
    "data_input = pd.read_csv(\"data_input - source2261112.csv\", header=None)"
   ]
  },
  {
   "cell_type": "code",
   "execution_count": 302,
   "id": "c6800a71",
   "metadata": {},
   "outputs": [],
   "source": [
    "data_input.columns = data_input.columns=['nr','comment','id_1','id_2','topic', 'x', 'x', 'x', 'x', 'x']"
   ]
  },
  {
   "cell_type": "code",
   "execution_count": 320,
   "id": "a5c0a6e2",
   "metadata": {},
   "outputs": [],
   "source": [
    "data_input_stance = data_input[data_input[\"nr\"].isin(nrs)]"
   ]
  },
  {
   "cell_type": "code",
   "execution_count": 325,
   "id": "33f7e4f3",
   "metadata": {},
   "outputs": [
    {
     "data": {
      "text/html": [
       "<div>\n",
       "<style scoped>\n",
       "    .dataframe tbody tr th:only-of-type {\n",
       "        vertical-align: middle;\n",
       "    }\n",
       "\n",
       "    .dataframe tbody tr th {\n",
       "        vertical-align: top;\n",
       "    }\n",
       "\n",
       "    .dataframe thead th {\n",
       "        text-align: right;\n",
       "    }\n",
       "</style>\n",
       "<table border=\"1\" class=\"dataframe\">\n",
       "  <thead>\n",
       "    <tr style=\"text-align: right;\">\n",
       "      <th></th>\n",
       "      <th>nr</th>\n",
       "      <th>comment</th>\n",
       "      <th>id_1</th>\n",
       "      <th>id_2</th>\n",
       "      <th>topic</th>\n",
       "      <th>x</th>\n",
       "      <th>x</th>\n",
       "      <th>x</th>\n",
       "      <th>x</th>\n",
       "      <th>x</th>\n",
       "    </tr>\n",
       "  </thead>\n",
       "  <tbody>\n",
       "    <tr>\n",
       "      <th>0</th>\n",
       "      <td>3492674527</td>\n",
       "      <td>Oh 200 billion!... Aaaand it's gone.</td>\n",
       "      <td>fyyypvd</td>\n",
       "      <td>hwdn1p</td>\n",
       "      <td>Italian prime minister on 200 billion in EU fu...</td>\n",
       "      <td>NaN</td>\n",
       "      <td>NaN</td>\n",
       "      <td>NaN</td>\n",
       "      <td>NaN</td>\n",
       "      <td>NaN</td>\n",
       "    </tr>\n",
       "  </tbody>\n",
       "</table>\n",
       "</div>"
      ],
      "text/plain": [
       "           nr                               comment     id_1    id_2                                              topic   x    x    x   x    x\n",
       "0  3492674527  Oh 200 billion!... Aaaand it's gone.  fyyypvd  hwdn1p  Italian prime minister on 200 billion in EU fu... NaN  NaN  NaN NaN  NaN"
      ]
     },
     "execution_count": 325,
     "metadata": {},
     "output_type": "execute_result"
    }
   ],
   "source": [
    "data_input_stance[:1]"
   ]
  },
  {
   "cell_type": "code",
   "execution_count": 322,
   "id": "e1c52df0",
   "metadata": {},
   "outputs": [
    {
     "name": "stdout",
     "output_type": "stream",
     "text": [
      "68\n"
     ]
    }
   ],
   "source": [
    "print(len(data_input_stance))"
   ]
  },
  {
   "cell_type": "code",
   "execution_count": 328,
   "id": "b58898a5",
   "metadata": {},
   "outputs": [],
   "source": [
    "data_input_stance.to_csv(\"threat_input.csv\")"
   ]
  },
  {
   "cell_type": "code",
   "execution_count": 327,
   "id": "d7ea991c",
   "metadata": {},
   "outputs": [
    {
     "data": {
      "text/plain": [
       "{3495845409, 3495845412}"
      ]
     },
     "execution_count": 327,
     "metadata": {},
     "output_type": "execute_result"
    }
   ],
   "source": [
    "set(nrs) ^ set(data_input_stance.nr)"
   ]
  },
  {
   "cell_type": "markdown",
   "id": "952fa7c4",
   "metadata": {},
   "source": [
    "#### Threat"
   ]
  },
  {
   "cell_type": "code",
   "execution_count": 49,
   "id": "b68eba4c",
   "metadata": {},
   "outputs": [],
   "source": [
    "data_threat = pd.read_csv(\"Power_Threat_dimension.csv\")"
   ]
  },
  {
   "cell_type": "code",
   "execution_count": 50,
   "id": "d2790f38",
   "metadata": {},
   "outputs": [],
   "source": [
    "data_threat.columns = data_threat.columns.str.split(\"-\").str[0]"
   ]
  },
  {
   "cell_type": "code",
   "execution_count": 51,
   "id": "533e9534",
   "metadata": {},
   "outputs": [],
   "source": [
    "#data_annotations = data_threat[2:]\n",
    "data_threat.columns, data_threat.iloc[0] = data_threat.iloc[0].to_list(), data_threat.columns\n",
    "data_threat.rename(columns={ data_threat.columns[17]: \"consent\" }, inplace = True)\n",
    "data_threat.columns = data_threat.columns.str.split(\"-\").str[0]\n",
    "transposed_annotations = data_threat.T\n"
   ]
  },
  {
   "cell_type": "code",
   "execution_count": 52,
   "id": "706c776e",
   "metadata": {},
   "outputs": [
    {
     "data": {
      "text/html": [
       "<div>\n",
       "<style scoped>\n",
       "    .dataframe tbody tr th:only-of-type {\n",
       "        vertical-align: middle;\n",
       "    }\n",
       "\n",
       "    .dataframe tbody tr th {\n",
       "        vertical-align: top;\n",
       "    }\n",
       "\n",
       "    .dataframe thead th {\n",
       "        text-align: right;\n",
       "    }\n",
       "</style>\n",
       "<table border=\"1\" class=\"dataframe\">\n",
       "  <thead>\n",
       "    <tr style=\"text-align: right;\">\n",
       "      <th></th>\n",
       "      <th>0</th>\n",
       "      <th>1</th>\n",
       "      <th>2</th>\n",
       "      <th>3</th>\n",
       "      <th>4</th>\n",
       "      <th>5</th>\n",
       "      <th>6</th>\n",
       "      <th>7</th>\n",
       "    </tr>\n",
       "  </thead>\n",
       "  <tbody>\n",
       "    <tr>\n",
       "      <th>Start Date</th>\n",
       "      <td>StartDate</td>\n",
       "      <td>{\"ImportId\":\"startDate\",\"timeZone\":\"America/De...</td>\n",
       "      <td>2023-09-07 17:26:28</td>\n",
       "      <td>2023-09-07 17:28:05</td>\n",
       "      <td>2023-09-07 17:28:16</td>\n",
       "      <td>2023-09-07 17:27:32</td>\n",
       "      <td>2023-09-07 17:30:31</td>\n",
       "      <td>2023-09-07 18:07:01</td>\n",
       "    </tr>\n",
       "  </tbody>\n",
       "</table>\n",
       "</div>"
      ],
      "text/plain": [
       "                    0                                                  1                    2                    3                    4                    5                    6                    7\n",
       "Start Date  StartDate  {\"ImportId\":\"startDate\",\"timeZone\":\"America/De...  2023-09-07 17:26:28  2023-09-07 17:28:05  2023-09-07 17:28:16  2023-09-07 17:27:32  2023-09-07 17:30:31  2023-09-07 18:07:01"
      ]
     },
     "execution_count": 52,
     "metadata": {},
     "output_type": "execute_result"
    }
   ],
   "source": [
    "transposed_annotations[:1]"
   ]
  },
  {
   "cell_type": "code",
   "execution_count": 53,
   "id": "7a9074ac",
   "metadata": {},
   "outputs": [],
   "source": [
    "transposed_annotations.columns = transposed_annotations.iloc[18]\n",
    "transposed_annotations = transposed_annotations[19:]"
   ]
  },
  {
   "cell_type": "code",
   "execution_count": 64,
   "id": "525aad44",
   "metadata": {},
   "outputs": [
    {
     "data": {
      "text/html": [
       "<div>\n",
       "<style scoped>\n",
       "    .dataframe tbody tr th:only-of-type {\n",
       "        vertical-align: middle;\n",
       "    }\n",
       "\n",
       "    .dataframe tbody tr th {\n",
       "        vertical-align: top;\n",
       "    }\n",
       "\n",
       "    .dataframe thead th {\n",
       "        text-align: right;\n",
       "    }\n",
       "</style>\n",
       "<table border=\"1\" class=\"dataframe\">\n",
       "  <thead>\n",
       "    <tr style=\"text-align: right;\">\n",
       "      <th>What is your Prolific ID?\n",
       "\n",
       "Please note that this response should auto</th>\n",
       "      <th>Q3</th>\n",
       "      <th>{\"ImportId\":\"QID3_TEXT\"}</th>\n",
       "      <th>5f3c4372d64ff120268a0b0b</th>\n",
       "      <th>62b2476fc924f1a048bd412b</th>\n",
       "      <th>6113fe6d1cc046cadf670b2f</th>\n",
       "      <th>592fbec4cf0d9600010e8a89</th>\n",
       "      <th>594ee6531ebf4800018a4854</th>\n",
       "      <th>60d432ce6e413e7509dd4b78</th>\n",
       "    </tr>\n",
       "  </thead>\n",
       "  <tbody>\n",
       "    <tr>\n",
       "      <th>34958453933492674527</th>\n",
       "      <td>1_Q145</td>\n",
       "      <td>{\"ImportId\":\"1_QID145\"}</td>\n",
       "      <td>The comment mentions NO POWER</td>\n",
       "      <td>The comment mentions NO POWER</td>\n",
       "      <td>The comment has UNDETERMINED POWER</td>\n",
       "      <td>The comment mentions NO POWER</td>\n",
       "      <td>The comment mentions POWER</td>\n",
       "      <td>The comment mentions NO POWER</td>\n",
       "    </tr>\n",
       "  </tbody>\n",
       "</table>\n",
       "</div>"
      ],
      "text/plain": [
       "What is your Prolific ID?\n",
       "\n",
       "Please note that this response should auto      Q3 {\"ImportId\":\"QID3_TEXT\"}       5f3c4372d64ff120268a0b0b       62b2476fc924f1a048bd412b            6113fe6d1cc046cadf670b2f       592fbec4cf0d9600010e8a89    594ee6531ebf4800018a4854       60d432ce6e413e7509dd4b78\n",
       "34958453933492674527                                                   1_Q145  {\"ImportId\":\"1_QID145\"}  The comment mentions NO POWER  The comment mentions NO POWER  The comment has UNDETERMINED POWER  The comment mentions NO POWER  The comment mentions POWER  The comment mentions NO POWER"
      ]
     },
     "execution_count": 64,
     "metadata": {},
     "output_type": "execute_result"
    }
   ],
   "source": [
    "transposed_annotations[:1]"
   ]
  },
  {
   "cell_type": "code",
   "execution_count": 65,
   "id": "8f54f3b2",
   "metadata": {},
   "outputs": [],
   "source": [
    "transposed_annotations = transposed_annotations[[\"5f3c4372d64ff120268a0b0b\", \"62b2476fc924f1a048bd412b\", \"6113fe6d1cc046cadf670b2f\", \"592fbec4cf0d9600010e8a89\", \"594ee6531ebf4800018a4854\", \"60d432ce6e413e7509dd4b78\"]]"
   ]
  },
  {
   "cell_type": "code",
   "execution_count": 67,
   "id": "bbf7049f",
   "metadata": {},
   "outputs": [],
   "source": [
    "power_annotations = transposed_annotations[transposed_annotations[\"5f3c4372d64ff120268a0b0b\"].str.contains('POWER').fillna(False)]"
   ]
  },
  {
   "cell_type": "code",
   "execution_count": 68,
   "id": "5bbe0fc8",
   "metadata": {},
   "outputs": [
    {
     "name": "stdout",
     "output_type": "stream",
     "text": [
      "68\n"
     ]
    }
   ],
   "source": [
    "print(len(power_annotations))"
   ]
  },
  {
   "cell_type": "code",
   "execution_count": 69,
   "id": "fdf2ed85",
   "metadata": {},
   "outputs": [
    {
     "data": {
      "text/html": [
       "<div>\n",
       "<style scoped>\n",
       "    .dataframe tbody tr th:only-of-type {\n",
       "        vertical-align: middle;\n",
       "    }\n",
       "\n",
       "    .dataframe tbody tr th {\n",
       "        vertical-align: top;\n",
       "    }\n",
       "\n",
       "    .dataframe thead th {\n",
       "        text-align: right;\n",
       "    }\n",
       "</style>\n",
       "<table border=\"1\" class=\"dataframe\">\n",
       "  <thead>\n",
       "    <tr style=\"text-align: right;\">\n",
       "      <th>What is your Prolific ID?\n",
       "\n",
       "Please note that this response should auto</th>\n",
       "      <th>5f3c4372d64ff120268a0b0b</th>\n",
       "      <th>62b2476fc924f1a048bd412b</th>\n",
       "      <th>6113fe6d1cc046cadf670b2f</th>\n",
       "      <th>592fbec4cf0d9600010e8a89</th>\n",
       "      <th>594ee6531ebf4800018a4854</th>\n",
       "      <th>60d432ce6e413e7509dd4b78</th>\n",
       "    </tr>\n",
       "  </thead>\n",
       "  <tbody>\n",
       "    <tr>\n",
       "      <th>101</th>\n",
       "      <td>The comment mentions NO POWER</td>\n",
       "      <td>The comment mentions NO POWER</td>\n",
       "      <td>The comment has UNDETERMINED POWER</td>\n",
       "      <td>The comment mentions NO POWER</td>\n",
       "      <td>The comment mentions NO POWER</td>\n",
       "      <td>The comment mentions NO POWER</td>\n",
       "    </tr>\n",
       "  </tbody>\n",
       "</table>\n",
       "</div>"
      ],
      "text/plain": [
       "What is your Prolific ID?\n",
       "\n",
       "Please note that this response should auto       5f3c4372d64ff120268a0b0b       62b2476fc924f1a048bd412b            6113fe6d1cc046cadf670b2f       592fbec4cf0d9600010e8a89       594ee6531ebf4800018a4854       60d432ce6e413e7509dd4b78\n",
       "101                                                                    The comment mentions NO POWER  The comment mentions NO POWER  The comment has UNDETERMINED POWER  The comment mentions NO POWER  The comment mentions NO POWER  The comment mentions NO POWER"
      ]
     },
     "execution_count": 69,
     "metadata": {},
     "output_type": "execute_result"
    }
   ],
   "source": [
    "power_annotations[-1:]"
   ]
  },
  {
   "cell_type": "code",
   "execution_count": 70,
   "id": "2e06fa01",
   "metadata": {},
   "outputs": [],
   "source": [
    "threat_annotations = transposed_annotations[transposed_annotations[\"5f3c4372d64ff120268a0b0b\"].str.contains('THREAT').fillna(False)]"
   ]
  },
  {
   "cell_type": "code",
   "execution_count": 71,
   "id": "6ef1e40d",
   "metadata": {},
   "outputs": [
    {
     "name": "stdout",
     "output_type": "stream",
     "text": [
      "68\n"
     ]
    }
   ],
   "source": [
    "print(len(threat_annotations))"
   ]
  },
  {
   "cell_type": "code",
   "execution_count": 72,
   "id": "d4ed94b6",
   "metadata": {},
   "outputs": [
    {
     "data": {
      "text/html": [
       "<div>\n",
       "<style scoped>\n",
       "    .dataframe tbody tr th:only-of-type {\n",
       "        vertical-align: middle;\n",
       "    }\n",
       "\n",
       "    .dataframe tbody tr th {\n",
       "        vertical-align: top;\n",
       "    }\n",
       "\n",
       "    .dataframe thead th {\n",
       "        text-align: right;\n",
       "    }\n",
       "</style>\n",
       "<table border=\"1\" class=\"dataframe\">\n",
       "  <thead>\n",
       "    <tr style=\"text-align: right;\">\n",
       "      <th>What is your Prolific ID?\n",
       "\n",
       "Please note that this response should auto</th>\n",
       "      <th>5f3c4372d64ff120268a0b0b</th>\n",
       "      <th>62b2476fc924f1a048bd412b</th>\n",
       "      <th>6113fe6d1cc046cadf670b2f</th>\n",
       "      <th>592fbec4cf0d9600010e8a89</th>\n",
       "      <th>594ee6531ebf4800018a4854</th>\n",
       "      <th>60d432ce6e413e7509dd4b78</th>\n",
       "    </tr>\n",
       "  </thead>\n",
       "  <tbody>\n",
       "    <tr>\n",
       "      <th>34958453933492674527</th>\n",
       "      <td>The comment has UNDETERMINED THREAT</td>\n",
       "      <td>The comment has UNDETERMINED THREAT</td>\n",
       "      <td>NaN</td>\n",
       "      <td>The comment mentions THREAT</td>\n",
       "      <td>The comment has UNDETERMINED THREAT</td>\n",
       "      <td>The comment mentions THREAT</td>\n",
       "    </tr>\n",
       "    <tr>\n",
       "      <th>3492674531</th>\n",
       "      <td>The comment has UNDETERMINED THREAT</td>\n",
       "      <td>The comment has UNDETERMINED THREAT</td>\n",
       "      <td>NaN</td>\n",
       "      <td>The comment has UNDETERMINED THREAT</td>\n",
       "      <td>The comment mentions THREAT</td>\n",
       "      <td>The comment has UNDETERMINED THREAT</td>\n",
       "    </tr>\n",
       "    <tr>\n",
       "      <th>3492674532</th>\n",
       "      <td>The comment mentions NO THREAT</td>\n",
       "      <td>The comment mentions NO THREAT</td>\n",
       "      <td>NaN</td>\n",
       "      <td>The comment has UNDETERMINED THREAT</td>\n",
       "      <td>The comment mentions NO THREAT</td>\n",
       "      <td>The comment mentions NO THREAT</td>\n",
       "    </tr>\n",
       "    <tr>\n",
       "      <th>3492674533</th>\n",
       "      <td>The comment has UNDETERMINED THREAT</td>\n",
       "      <td>The comment has UNDETERMINED THREAT</td>\n",
       "      <td>NaN</td>\n",
       "      <td>The comment mentions THREAT</td>\n",
       "      <td>The comment has UNDETERMINED THREAT</td>\n",
       "      <td>The comment mentions THREAT</td>\n",
       "    </tr>\n",
       "    <tr>\n",
       "      <th>3492674534</th>\n",
       "      <td>The comment has UNDETERMINED THREAT</td>\n",
       "      <td>The comment has UNDETERMINED THREAT</td>\n",
       "      <td>NaN</td>\n",
       "      <td>The comment has UNDETERMINED THREAT</td>\n",
       "      <td>The comment mentions THREAT</td>\n",
       "      <td>The comment mentions THREAT</td>\n",
       "    </tr>\n",
       "  </tbody>\n",
       "</table>\n",
       "</div>"
      ],
      "text/plain": [
       "What is your Prolific ID?\n",
       "\n",
       "Please note that this response should auto             5f3c4372d64ff120268a0b0b             62b2476fc924f1a048bd412b 6113fe6d1cc046cadf670b2f             592fbec4cf0d9600010e8a89             594ee6531ebf4800018a4854             60d432ce6e413e7509dd4b78\n",
       "34958453933492674527                                                   The comment has UNDETERMINED THREAT  The comment has UNDETERMINED THREAT                      NaN          The comment mentions THREAT  The comment has UNDETERMINED THREAT          The comment mentions THREAT\n",
       "3492674531                                                             The comment has UNDETERMINED THREAT  The comment has UNDETERMINED THREAT                      NaN  The comment has UNDETERMINED THREAT          The comment mentions THREAT  The comment has UNDETERMINED THREAT\n",
       "3492674532                                                                  The comment mentions NO THREAT       The comment mentions NO THREAT                      NaN  The comment has UNDETERMINED THREAT       The comment mentions NO THREAT       The comment mentions NO THREAT\n",
       "3492674533                                                             The comment has UNDETERMINED THREAT  The comment has UNDETERMINED THREAT                      NaN          The comment mentions THREAT  The comment has UNDETERMINED THREAT          The comment mentions THREAT\n",
       "3492674534                                                             The comment has UNDETERMINED THREAT  The comment has UNDETERMINED THREAT                      NaN  The comment has UNDETERMINED THREAT          The comment mentions THREAT          The comment mentions THREAT"
      ]
     },
     "execution_count": 72,
     "metadata": {},
     "output_type": "execute_result"
    }
   ],
   "source": [
    "threat_annotations[:5]"
   ]
  },
  {
   "cell_type": "code",
   "execution_count": 75,
   "id": "8eb35c7f",
   "metadata": {},
   "outputs": [],
   "source": [
    "threat_annotations = threat_annotations.replace(\"The comment mentions THREAT\", 1)\n",
    "threat_annotations = threat_annotations.replace(\"The comment mentions NO THREAT\", 2)\n",
    "threat_annotations = threat_annotations.replace(\"The comment has UNDETERMINED THREAT\", 0)\n",
    "threat_annotations = threat_annotations.fillna(99)"
   ]
  },
  {
   "cell_type": "code",
   "execution_count": 78,
   "id": "a35ccb6b",
   "metadata": {},
   "outputs": [],
   "source": [
    "power_annotations = power_annotations.replace(\"The comment mentions POWER\", 1)\n",
    "power_annotations = power_annotations.replace(\"The comment mentions NO POWER\", 2)\n",
    "power_annotations = power_annotations.replace(\"The comment has UNDETERMINED POWER\", 0)\n",
    "power_annotations = power_annotations.fillna(99)"
   ]
  },
  {
   "cell_type": "code",
   "execution_count": 80,
   "id": "ad713d2b",
   "metadata": {},
   "outputs": [
    {
     "data": {
      "text/plain": [
       "0.1395645583115391"
      ]
     },
     "execution_count": 80,
     "metadata": {},
     "output_type": "execute_result"
    }
   ],
   "source": [
    "from statsmodels.stats import inter_rater as irr\n",
    "irr.fleiss_kappa(irr.aggregate_raters(threat_annotations)[0], method='fleiss')"
   ]
  },
  {
   "cell_type": "code",
   "execution_count": 81,
   "id": "9e9c8a7b",
   "metadata": {},
   "outputs": [
    {
     "data": {
      "text/plain": [
       "0.29560416627141445"
      ]
     },
     "execution_count": 81,
     "metadata": {},
     "output_type": "execute_result"
    }
   ],
   "source": [
    "from statsmodels.stats import inter_rater as irr\n",
    "irr.fleiss_kappa(irr.aggregate_raters(power_annotations)[0], method='fleiss')"
   ]
  },
  {
   "cell_type": "code",
   "execution_count": 95,
   "id": "1423612e",
   "metadata": {},
   "outputs": [
    {
     "name": "stderr",
     "output_type": "stream",
     "text": [
      "<ipython-input-95-5dbcd9b35dc6>:1: SettingWithCopyWarning: \n",
      "A value is trying to be set on a copy of a slice from a DataFrame.\n",
      "Try using .loc[row_indexer,col_indexer] = value instead\n",
      "\n",
      "See the caveats in the documentation: https://pandas.pydata.org/pandas-docs/stable/user_guide/indexing.html#returning-a-view-versus-a-copy\n",
      "  power_annotations[\"mode\"] = power_annotations.mode(axis=1)[0]\n"
     ]
    }
   ],
   "source": [
    "power_annotations[\"mode\"] = power_annotations.mode(axis=1)[0]"
   ]
  },
  {
   "cell_type": "code",
   "execution_count": 96,
   "id": "de26f7ff",
   "metadata": {},
   "outputs": [
    {
     "name": "stderr",
     "output_type": "stream",
     "text": [
      "<ipython-input-96-72770cd74fb3>:1: SettingWithCopyWarning: \n",
      "A value is trying to be set on a copy of a slice from a DataFrame.\n",
      "Try using .loc[row_indexer,col_indexer] = value instead\n",
      "\n",
      "See the caveats in the documentation: https://pandas.pydata.org/pandas-docs/stable/user_guide/indexing.html#returning-a-view-versus-a-copy\n",
      "  threat_annotations[\"mode\"] = threat_annotations.mode(axis=1)[0]\n"
     ]
    }
   ],
   "source": [
    "threat_annotations[\"mode\"] = threat_annotations.mode(axis=1)[0]"
   ]
  },
  {
   "cell_type": "code",
   "execution_count": 97,
   "id": "60779814",
   "metadata": {},
   "outputs": [
    {
     "data": {
      "text/plain": [
       "0.0    36\n",
       "2.0    24\n",
       "1.0     8\n",
       "Name: mode, dtype: int64"
      ]
     },
     "execution_count": 97,
     "metadata": {},
     "output_type": "execute_result"
    }
   ],
   "source": [
    "power_annotations[\"mode\"].value_counts()"
   ]
  },
  {
   "cell_type": "code",
   "execution_count": null,
   "id": "a45f9a92",
   "metadata": {},
   "outputs": [],
   "source": [
    "power_annotations = power_annotations.replace(\"The comment mentions POWER\", 1)\n",
    "power_annotations = power_annotations.replace(\"The comment mentions NO POWER\", 2)\n",
    "power_annotations = power_annotations.replace(\"The comment has UNDETERMINED POWER\", 0)"
   ]
  },
  {
   "cell_type": "code",
   "execution_count": 98,
   "id": "289d7db1",
   "metadata": {},
   "outputs": [
    {
     "data": {
      "text/plain": [
       "0.0    30\n",
       "1.0    28\n",
       "2.0    10\n",
       "Name: mode, dtype: int64"
      ]
     },
     "execution_count": 98,
     "metadata": {},
     "output_type": "execute_result"
    }
   ],
   "source": [
    "threat_annotations[\"mode\"].value_counts()"
   ]
  },
  {
   "cell_type": "code",
   "execution_count": 89,
   "id": "e5cdeebd",
   "metadata": {},
   "outputs": [
    {
     "data": {
      "text/plain": [
       "Index(['5f3c4372d64ff120268a0b0b', '62b2476fc924f1a048bd412b', '6113fe6d1cc046cadf670b2f', '592fbec4cf0d9600010e8a89', '594ee6531ebf4800018a4854', '60d432ce6e413e7509dd4b78', 'mode'], dtype='object', name='What is your Prolific ID?\\n\\nPlease note that this response should auto')"
      ]
     },
     "execution_count": 89,
     "metadata": {},
     "output_type": "execute_result"
    }
   ],
   "source": [
    "threat_annotations.columns"
   ]
  },
  {
   "cell_type": "code",
   "execution_count": 101,
   "id": "b651afbc",
   "metadata": {},
   "outputs": [],
   "source": [
    "threat_annotations = threat_annotations[['5f3c4372d64ff120268a0b0b', '62b2476fc924f1a048bd412b', '592fbec4cf0d9600010e8a89', '594ee6531ebf4800018a4854', '60d432ce6e413e7509dd4b78']]"
   ]
  },
  {
   "cell_type": "code",
   "execution_count": 102,
   "id": "7fca0f94",
   "metadata": {},
   "outputs": [
    {
     "data": {
      "text/plain": [
       "0.32526889003278175"
      ]
     },
     "execution_count": 102,
     "metadata": {},
     "output_type": "execute_result"
    }
   ],
   "source": [
    "irr.fleiss_kappa(irr.aggregate_raters(threat_annotations)[0], method='fleiss')"
   ]
  },
  {
   "cell_type": "code",
   "execution_count": 99,
   "id": "d74ad04c",
   "metadata": {},
   "outputs": [],
   "source": [
    "power_annotations = power_annotations[['5f3c4372d64ff120268a0b0b', '62b2476fc924f1a048bd412b', '592fbec4cf0d9600010e8a89', '594ee6531ebf4800018a4854', '60d432ce6e413e7509dd4b78']]"
   ]
  },
  {
   "cell_type": "code",
   "execution_count": 100,
   "id": "137b31ee",
   "metadata": {},
   "outputs": [
    {
     "data": {
      "text/plain": [
       "0.303374494650862"
      ]
     },
     "execution_count": 100,
     "metadata": {},
     "output_type": "execute_result"
    }
   ],
   "source": [
    "irr.fleiss_kappa(irr.aggregate_raters(power_annotations)[0], method='fleiss')"
   ]
  },
  {
   "cell_type": "code",
   "execution_count": null,
   "id": "c83b5fe1",
   "metadata": {},
   "outputs": [],
   "source": []
  }
 ],
 "metadata": {
  "kernelspec": {
   "display_name": "Python 3",
   "language": "python",
   "name": "python3"
  },
  "language_info": {
   "codemirror_mode": {
    "name": "ipython",
    "version": 3
   },
   "file_extension": ".py",
   "mimetype": "text/x-python",
   "name": "python",
   "nbconvert_exporter": "python",
   "pygments_lexer": "ipython3",
   "version": "3.9.5"
  }
 },
 "nbformat": 4,
 "nbformat_minor": 5
}
